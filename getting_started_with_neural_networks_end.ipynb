{
  "cells": [
    {
      "cell_type": "markdown",
      "metadata": {
        "id": "view-in-github"
      },
      "source": [
        "<a href=\"https://colab.research.google.com/github/matthewshawnkehoe/IntroToPythonMLNotebooks/blob/main/getting_started_with_neural_networks_end.ipynb\" target=\"_parent\"><img src=\"https://colab.research.google.com/assets/colab-badge.svg\" alt=\"Open In Colab\"/></a>"
      ]
    },
    {
      "cell_type": "markdown",
      "metadata": {
        "id": "s2tqa5Am_Svb"
      },
      "source": [
        "This is a companion notebook based on information in [Deep Learning with Python, Second Edition](https://www.manning.com/books/deep-learning-with-python-second-edition?a_aid=keras&a_bid=76564dff). The material and examples are provided by [François Chollet](https://fchollet.com/).\n",
        "\n",
        "This notebook was generated for TensorFlow 2.6."
      ]
    },
    {
      "cell_type": "markdown",
      "metadata": {
        "id": "3-HmtinI_Svf"
      },
      "source": [
        "# Getting started with neural networks: Classification and regression"
      ]
    },
    {
      "cell_type": "markdown",
      "source": [
        "We will start by covering the three most common\n",
        "use cases of neural networks— binary classification, multiclass classification,\n",
        "and scalar regression:\n",
        "\n",
        "*   Classifying movie reviews as positive or negative (binary classification)\n",
        "*   Classifying news wires by topic (multiclass classification)\n",
        "* Estimating the price of a house, given real-estate data (scalar regression)\n",
        "\n"
      ],
      "metadata": {
        "id": "JIOlYVqhA56a"
      }
    },
    {
      "cell_type": "markdown",
      "source": [
        "These examples will demonstrate end-to-end machine learning work-\n",
        "flows: you'll get introduced to data preprocessing, basic model architecture principles, and model evaluation."
      ],
      "metadata": {
        "id": "xfTWZiwM4PFa"
      }
    },
    {
      "cell_type": "markdown",
      "source": [
        "\n",
        "---\n",
        "**Classification and regression glossary**\n",
        "\n",
        "Classification and regression involve many specialized terms. They have precise, machine learning-specific definitions, including:\n",
        "\n",
        "* **Sample** or **input**- One data point that goes into your model.\n",
        "* **Prediction** or **output**- What comes out of your model.\n",
        "* **Target**- The truth. What your model should ideally have predicted, according to an external source of data.\n",
        "* **Prediction  error**  or  **loss  value** — A  measure  of  the  distance  between  your model's prediction and the target.\n",
        "* **Classes**— A set of possible labels to choose from in a classification problem. For example, when classifying cat and dog pictures, “dog” and “cat” are the two classes.\n",
        "*  **Label** — A specific instance of a class annotation in a classification problem. For  instance,  if  picture  #1234  is  annotated  as  containing  the  class  “dog,” then “dog” is a label of picture #1234.\n",
        "* **Ground-truth**  or  **annotations** — All  targets  for  a  dataset,  typically  collected  by humans.\n",
        "* **Binary  classification** — A  classification  task  where  each  input  sample  should be categorized into two exclusive categories.\n",
        "* **Multiclass  classification** — A  classification  task  where  each  input  sample should be categorized into more than two categories: for instance, classifying handwritten digits.\n",
        "* **Multilabel  classification** — A  classification  task  where  each  input  sample  can be assigned multiple labels. For instance, a given image may contain both a cat  and  a  dog  and  should  be  annotated  both  with  the  “cat”  label  and  the “dog” label. The number of labels per image is usually variable.\n",
        "* **Scalar regression** — A task where the target is a continuous scalar value. Predicting house prices is a good example: the different target prices form a continuous space.\n",
        "* **Vector regression** — A task where the target is a set of continuous values: for example, a continuous vector. If you're doing regression against multiple values  (such  as  the  coordinates  of  a  bounding  box  in  an  image),  then  you're doing vector regression.\n",
        "* **Mini-batch**  or  **batch**- A  small  set  of  samples  (typically  between  8  and  128) that are processed simultaneously by the model. The number of samples is often a power of 2, to facilitate memory allocation on GPU. When training, a\n",
        "mini-batch  is  used  to  compute  a  single  gradient-descent  update  applied  to the weights of the model.\n",
        "---"
      ],
      "metadata": {
        "id": "VEcO5xce4ZJZ"
      }
    },
    {
      "cell_type": "markdown",
      "metadata": {
        "id": "7J20cvtf_Svg"
      },
      "source": [
        "## Classifying movie reviews: A binary classification example"
      ]
    },
    {
      "cell_type": "markdown",
      "source": [
        "Two-class  classification, or  binary  classification, is  one of  the  most  common  kinds of machine learning problems. In this example, you’ll learn to classify movie reviews as positive or negative, based on the text content of the reviews.\n",
        "\n"
      ],
      "metadata": {
        "id": "41l6JBhPBXv8"
      }
    },
    {
      "cell_type": "markdown",
      "metadata": {
        "id": "7Em-C70T_Svg"
      },
      "source": [
        "### The IMDB dataset"
      ]
    },
    {
      "cell_type": "markdown",
      "source": [
        "You'll work with the IMDB dataset: a set of 50,000 highly polarized reviews from the Internet Movie Database.  They're  split  into  25,000  reviews  for  training  and  25,000 reviews for testing, each set consisting of 50% negative and 50% positive reviews.\n",
        "\n",
        "\n",
        " Just like the MNIST dataset, the IMDB dataset comes packaged with Keras. It has\n",
        "already  been  preprocessed:  the  reviews  (sequences of words)  have been  turned  into sequences  of  integers,  where  each  integer  stands  for  a  specific  word  in  a  dictionary. This enables us to focus on model building, training, and evaluation.\n",
        "\n",
        "The following code will load the dataset (when you run it the first time, about 80 MB of data will be downloaded to your machine)."
      ],
      "metadata": {
        "id": "GyftfnW8BcTj"
      }
    },
    {
      "cell_type": "markdown",
      "metadata": {
        "id": "e4B6qqbm_Svg"
      },
      "source": [
        "**Loading the IMDB dataset**"
      ]
    },
    {
      "cell_type": "code",
      "source": [
        "from tensorflow.keras.datasets import imdb\n",
        "(train_data, train_labels), (test_data, test_labels) = imdb.load_data(\n",
        "    num_words=10000)"
      ],
      "metadata": {
        "id": "2-H-qRoiNDsz",
        "outputId": "dd3b603d-510c-4493-d75a-f97a359c6adc",
        "colab": {
          "base_uri": "https://localhost:8080/"
        }
      },
      "execution_count": null,
      "outputs": [
        {
          "output_type": "stream",
          "name": "stdout",
          "text": [
            "Downloading data from https://storage.googleapis.com/tensorflow/tf-keras-datasets/imdb.npz\n",
            "17464789/17464789 [==============================] - 0s 0us/step\n"
          ]
        }
      ]
    },
    {
      "cell_type": "markdown",
      "source": [
        "The argument `num_words=10000` means you’ll only keep the top 10,000 most frequently occurring words in the training data. Rare words will be discarded. This allows us to work with vector data of manageable size. If we didn't set this limit, we'd be working with 88,585 unique words in the training data, which is unnecessarily large.  Many of these words only occur in a single sample, and thus can't be meaningfully used for classification.\n",
        "\n",
        "The variables `train_data` and `test_data` are lists of reviews; each review is a list of word indices (encoding a sequence of words). `train_labels` and `test_labels` are lists of 0s and 1s, where 0 stands for *negative* and 1 stands for *positive*:"
      ],
      "metadata": {
        "id": "K7_sOweDByhD"
      }
    },
    {
      "cell_type": "code",
      "execution_count": null,
      "metadata": {
        "id": "_minCUzB_Svj",
        "outputId": "5a2705dd-d120-4f07-e805-9c2cd3668aaa",
        "colab": {
          "base_uri": "https://localhost:8080/"
        },
        "collapsed": true
      },
      "outputs": [
        {
          "output_type": "execute_result",
          "data": {
            "text/plain": [
              "array([   1,   14,   22,   16,   43,  530,  973, 1622, 1385,   65,  458,\n",
              "       4468,   66, 3941,    4,  173,   36,  256,    5,   25,  100,   43,\n",
              "        838,  112,   50,  670,    2,    9,   35,  480,  284,    5,  150,\n",
              "          4,  172,  112,  167,    2,  336,  385,   39,    4,  172, 4536,\n",
              "       1111,   17,  546,   38,   13,  447,    4,  192,   50,   16,    6,\n",
              "        147, 2025,   19,   14,   22,    4, 1920, 4613,  469,    4,   22,\n",
              "         71,   87,   12,   16,   43,  530,   38,   76,   15,   13, 1247,\n",
              "          4,   22,   17,  515,   17,   12,   16,  626,   18,    2,    5,\n",
              "         62,  386,   12,    8,  316,    8,  106,    5,    4, 2223, 5244,\n",
              "         16,  480,   66, 3785,   33,    4,  130,   12,   16,   38,  619,\n",
              "          5,   25,  124,   51,   36,  135,   48,   25, 1415,   33,    6,\n",
              "         22,   12,  215,   28,   77,   52,    5,   14,  407,   16,   82,\n",
              "          2,    8,    4,  107,  117, 5952,   15,  256,    4,    2,    7,\n",
              "       3766,    5,  723,   36,   71,   43,  530,  476,   26,  400,  317,\n",
              "         46,    7,    4,    2, 1029,   13,  104,   88,    4,  381,   15,\n",
              "        297,   98,   32, 2071,   56,   26,  141,    6,  194, 7486,   18,\n",
              "          4,  226,   22,   21,  134,  476,   26,  480,    5,  144,   30,\n",
              "       5535,   18,   51,   36,   28,  224,   92,   25,  104,    4,  226,\n",
              "         65,   16,   38, 1334,   88,   12,   16,  283,    5,   16, 4472,\n",
              "        113,  103,   32,   15,   16, 5345,   19,  178,   32])"
            ]
          },
          "metadata": {},
          "execution_count": 2
        }
      ],
      "source": [
        "import numpy as np\n",
        "np.array(train_data[0])"
      ]
    },
    {
      "cell_type": "code",
      "execution_count": null,
      "metadata": {
        "id": "ANsSkcB3_Svj",
        "outputId": "82e89b89-d727-4261-e8ab-550473720bdb",
        "colab": {
          "base_uri": "https://localhost:8080/"
        },
        "collapsed": true
      },
      "outputs": [
        {
          "output_type": "execute_result",
          "data": {
            "text/plain": [
              "1"
            ]
          },
          "metadata": {},
          "execution_count": 3
        }
      ],
      "source": [
        "train_labels[0]"
      ]
    },
    {
      "cell_type": "markdown",
      "source": [
        "Because  we're  restricting  ourselves  to  the  top 10,000  most  frequent  words, no word index will exceed 10,000:"
      ],
      "metadata": {
        "id": "ZlrlAXhqC4uM"
      }
    },
    {
      "cell_type": "code",
      "execution_count": null,
      "metadata": {
        "id": "7KBY8hqa_Svk",
        "outputId": "b6bbb60f-89f8-4bca-a10d-0e76f3b3676f",
        "colab": {
          "base_uri": "https://localhost:8080/"
        },
        "collapsed": true
      },
      "outputs": [
        {
          "output_type": "execute_result",
          "data": {
            "text/plain": [
              "9999"
            ]
          },
          "metadata": {},
          "execution_count": 4
        }
      ],
      "source": [
        "max([max(sequence) for sequence in train_data])"
      ]
    },
    {
      "cell_type": "markdown",
      "source": [
        "For kicks, here’s how you can quickly decode one of these reviews back to English words."
      ],
      "metadata": {
        "id": "dMfqyMC8C9zD"
      }
    },
    {
      "cell_type": "markdown",
      "metadata": {
        "id": "Xz7APGFm_Svk"
      },
      "source": [
        "**Decoding reviews back to text**"
      ]
    },
    {
      "cell_type": "code",
      "execution_count": null,
      "metadata": {
        "id": "1gFEinT4_Svk",
        "outputId": "1483c8ac-cc26-4548-8dbd-31450883e40f",
        "colab": {
          "base_uri": "https://localhost:8080/"
        },
        "collapsed": true
      },
      "outputs": [
        {
          "output_type": "stream",
          "name": "stdout",
          "text": [
            "Downloading data from https://storage.googleapis.com/tensorflow/tf-keras-datasets/imdb_word_index.json\n",
            "1641221/1641221 [==============================] - 0s 0us/step\n"
          ]
        }
      ],
      "source": [
        "word_index = imdb.get_word_index()                                              # word_index is a dictionary mapping words to an integer index.\n",
        "reverse_word_index = dict(\n",
        "    [(value, key) for (key, value) in word_index.items()])                      # Reverses it, mapping integer indices to words.\n",
        "decoded_review = \" \".join(\n",
        "    [reverse_word_index.get(i - 3, \"?\") for i in train_data[0]])                # Decodes the review. Note that the indices are offset by 3 because 0, 1, and 2\n",
        "                                                                                # are reserved indices for padding, start of sequence, and unknown."
      ]
    },
    {
      "cell_type": "code",
      "source": [
        "# Print out the English text from the decoded review\n",
        "print(decoded_review[2:])"
      ],
      "metadata": {
        "id": "7Ll-FtTvDgfc",
        "outputId": "fbe34d96-ad32-4d5a-8e5b-13fa25e9aaa0",
        "colab": {
          "base_uri": "https://localhost:8080/"
        },
        "collapsed": true
      },
      "execution_count": null,
      "outputs": [
        {
          "output_type": "stream",
          "name": "stdout",
          "text": [
            "this film was just brilliant casting location scenery story direction everyone's really suited the part they played and you could just imagine being there robert ? is an amazing actor and now the same being director ? father came from the same scottish island as myself so i loved the fact there was a real connection with this film the witty remarks throughout the film were great it was just brilliant so much that i bought the film as soon as it was released for ? and would recommend it to everyone to watch and the fly fishing was amazing really cried at the end it was so sad and you know what they say if you cry at a film it must have been good and this definitely was also ? to the two little boy's that played the ? of norman and paul they were just brilliant children are often left out of the ? list i think because the stars that play them all grown up are such a big profile for the whole film but these children are amazing and should be praised for what they have done don't you think the whole story was so lovely because it was true and was someone's life after all that was shared with us all\n"
          ]
        }
      ]
    },
    {
      "cell_type": "markdown",
      "metadata": {
        "id": "BMxA1t0t_Svl"
      },
      "source": [
        "### Preparing the data"
      ]
    },
    {
      "cell_type": "markdown",
      "source": [
        "You can't directly feed lists of integers into a neural network. They all have different lengths, but a neural network expects to process contiguous batches of data. You have to turn your lists into tensors. There are two ways to do that:\n",
        "\n",
        "*   Pad your lists so that they all have the same length, turn them into an integer tensor of shape `(samples, max_length)`, and start your model with a layer capable of handling such integer tensors (the `Embedding layer`, which we'll cover in detail later in the book).\n",
        "*   `Multi-hot  encode`  your  lists  to  turn  them  into  vectors  of  0s  and  1s.  This  would mean, for instance, turning the sequence `[8, 5]` into a 10,000-dimensional vector that would be all 0s except for indices 8 and 5, which would be 1s. Then you could use a  `Dense` layer, capable  of handling floating-point vector data,  as the first layer in your model.\n",
        "\n",
        "We will  go  with  the  latter  solution  to  vectorize  the  data,  which  we will do  manually  for maximum clarity.\n"
      ],
      "metadata": {
        "id": "D04S7ugrELRM"
      }
    },
    {
      "cell_type": "markdown",
      "metadata": {
        "id": "Hrpsyc4X_Svl"
      },
      "source": [
        "**Encoding the integer sequences via multi-hot encoding**"
      ]
    },
    {
      "cell_type": "code",
      "execution_count": null,
      "metadata": {
        "id": "6bfBQaT2_Svn"
      },
      "outputs": [],
      "source": [
        "import numpy as np\n",
        "def vectorize_sequences(sequences, dimension=10000):\n",
        "    results = np.zeros((len(sequences), dimension))                             # Creates an all-zero matrix of shape (len(sequences), dimension).\n",
        "    for i, sequence in enumerate(sequences):\n",
        "        for j in sequence:\n",
        "            results[i, j] = 1                                                   # Sets specific indices of results[i] to 1s.\n",
        "    return results\n",
        "x_train = vectorize_sequences(train_data)                                       # Vectorized training data\n",
        "x_test = vectorize_sequences(test_data)                                         # Vectorized test data"
      ]
    },
    {
      "cell_type": "markdown",
      "source": [
        "Here’s what the samples look like now:"
      ],
      "metadata": {
        "id": "cAc25w5IFb2V"
      }
    },
    {
      "cell_type": "code",
      "execution_count": null,
      "metadata": {
        "id": "Gy_bunxN_Svn",
        "outputId": "ae6f7806-56be-4f49-fb06-0bb5976012ea",
        "colab": {
          "base_uri": "https://localhost:8080/"
        },
        "collapsed": true
      },
      "outputs": [
        {
          "output_type": "execute_result",
          "data": {
            "text/plain": [
              "array([0., 1., 1., ..., 0., 0., 0.])"
            ]
          },
          "metadata": {},
          "execution_count": 8
        }
      ],
      "source": [
        "x_train[0]"
      ]
    },
    {
      "cell_type": "markdown",
      "source": [
        "You should also vectorize your labels, which is straightforward:"
      ],
      "metadata": {
        "id": "MuVHhFscFj88"
      }
    },
    {
      "cell_type": "code",
      "execution_count": null,
      "metadata": {
        "id": "mWR7etR4_Svn"
      },
      "outputs": [],
      "source": [
        "y_train = np.asarray(train_labels).astype(\"float32\")\n",
        "y_test = np.asarray(test_labels).astype(\"float32\")"
      ]
    },
    {
      "cell_type": "markdown",
      "source": [
        "Now the data is ready to be fed into a neural network."
      ],
      "metadata": {
        "id": "Wm10NbdFFro0"
      }
    },
    {
      "cell_type": "markdown",
      "metadata": {
        "id": "ADw0eCeR_Svo"
      },
      "source": [
        "### Building your model"
      ]
    },
    {
      "cell_type": "markdown",
      "source": [
        "The input data is vectors, and the labels are scalars (1s and 0s): this is one of the simplest problem setups you'll ever encounter. A type of model that performs well on such a problem is a plain stack of densely connected (`Dense`) layers with `relu` activations.\n",
        "\n",
        "There are two key architecture decisions to be made about such a stack of Dense\n",
        "layers:\n",
        "\n",
        "*   How many layers to use\n",
        "*   How many units to choose for each layer\n",
        "\n",
        "For the time being, we will make the following architecture\n",
        "choices:\n",
        "\n",
        "*  Two intermediate layers with 16 units each\n",
        "*  A third layer that will output the scalar prediction  regarding  the  sentiment  of  the current review\n",
        "\n",
        "Visually, the three layer model can be represented by:\n",
        "\n",
        "![three_layer_model.png](data:image/png;base64,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)\n",
        "\n",
        "We will now show the Keras implementation.\n",
        "\n"
      ],
      "metadata": {
        "id": "sFwFiww3FspE"
      }
    },
    {
      "cell_type": "markdown",
      "metadata": {
        "id": "t31W_MXC_Svo"
      },
      "source": [
        "**Model definition**"
      ]
    },
    {
      "cell_type": "code",
      "execution_count": null,
      "metadata": {
        "id": "2fdbjVKz_Svp"
      },
      "outputs": [],
      "source": [
        "from tensorflow import keras\n",
        "from tensorflow.keras import layers\n",
        "\n",
        "model = keras.Sequential([\n",
        "    layers.Dense(16, activation=\"relu\"),\n",
        "    layers.Dense(16, activation=\"relu\"),\n",
        "    layers.Dense(1, activation=\"sigmoid\")\n",
        "])"
      ]
    },
    {
      "cell_type": "markdown",
      "source": [
        "The  first  argument  being  passed  to  each  Dense  layer  is  the  number  of  units  in  the layer:  the  dimensionality  of  representation  space  of  the  layer.  You  can recall that each such Dense layer with a relu activation implements the following chain of tensor operations:\n",
        "\n",
        "`output = relu(dot(input, W) + b)`\n",
        "\n",
        "Having 16 units means the weight matrix W will have shape `(input_dimension, 16)`:\n",
        "the dot product with W will project the input data onto a 16-dimensional representation space (and then you'll add the bias vector `b` and apply the `relu` operation). You can  intuitively  understand  the  dimensionality  of  your  representation  space  as  “how much freedom you're allowing the model to have when learning internal representations.”  Having  more  units  (a higher-dimensional  representation  space)  allows  your model to learn more-complex representations, but it makes the model more computationally  expensive  and  may  lead  to  learning  unwanted  patterns  (patterns  that  will improve performance on the training data but not on the test data).\n",
        "\n",
        "The  intermediate  layers  use `relu`  as  their  activation  function,  and  the  final  layer uses a `sigmoid` activation so as to output a probability (a score between 0 and 1 indicating how likely the sample is to have the target “1”: how likely the review is to be positive). A `relu` (rectified linear unit) is a function meant to zero out negative values (see figure 2), whereas a sigmoid “squashes” arbitrary values into the `[0, 1]` interval (see figure 3), outputting something that can be interpreted as a probability."
      ],
      "metadata": {
        "id": "DkJbtXp-HlaL"
      }
    },
    {
      "cell_type": "markdown",
      "source": [
        "![relu.png](data:image/png;base64,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)"
      ],
      "metadata": {
        "id": "gBQOoH8BMKs_"
      }
    },
    {
      "cell_type": "markdown",
      "source": [
        "![sigmoid.png](data:image/png;base64,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)"
      ],
      "metadata": {
        "id": "inAjTb7VMPwZ"
      }
    },
    {
      "cell_type": "markdown",
      "source": [
        "---\n",
        "**What are activation functions, and why are they necessary?**\n",
        "\n",
        "\n",
        "Without an activation function like `relu` (also called a non-linearity), the `Dense` layer would consist of two linear operations— a dot product and an addition:\n",
        "\n",
        "`output = dot(input, W) + b`\n",
        "\n",
        "The layer could only learn linear transformations (affine transformations) of the input data: the hypothesis space of the layer would be the set of all possible linear transformations of the input data into a 16-dimensional space. Such a hypothesis space is  too  restricted  and  wouldn't  benefit  from  multiple  layers  of  representations, because a deep stack of linear layers would still implement a linear operation: adding more layers wouldn't extend the hypothesis space.\n",
        "\n",
        "In order to get access to a much richer hypothesis space that will benefit from deep representations, you need a  non-linearity, or activation function. `relu` is  the  most popular activation  function  in deep learning,  but there are many other candidates, which all come with similarly strange names: `prelu`, `elu`, and so on.\n",
        "\n",
        "---"
      ],
      "metadata": {
        "id": "3BSaruygNE4o"
      }
    },
    {
      "cell_type": "markdown",
      "source": [
        "Finally, you need to choose a loss function and an optimizer. Because you're facing a binary classification problem and the output of your model is a probability (you end your  model  with  a  single-unit  layer  with  a  sigmoid  activation),  it's  best  to  use  the `binary_crossentropy` loss. It isn't the only viable choice: for instance, you could use\n",
        "`mean_squared_error`. But crossentropy is usually the best choice when you're dealing with models that output probabilities. Crossentropy is a quantity from the field of information theory that measures the distance between probability distributions or, in this case, between the ground-truth distribution and your predictions.\n",
        "\n",
        "As for the choice of the optimizer, we'll go with `rmsprop`, which is a usually a good default choice for virtually any problem.\n",
        "\n",
        "Here’s  the step  where  we  configure  the  model  with  the rmsprop  optimizer and the `binary_crossentropy` loss function. Note that we'll also monitor accuracy during training."
      ],
      "metadata": {
        "id": "ADa2BoZtMUdP"
      }
    },
    {
      "cell_type": "markdown",
      "metadata": {
        "id": "bzAHabGi_Svp"
      },
      "source": [
        "**Compiling the model**"
      ]
    },
    {
      "cell_type": "code",
      "execution_count": null,
      "metadata": {
        "id": "yoG7vlXw_Svp"
      },
      "outputs": [],
      "source": [
        "model.compile(optimizer=\"rmsprop\",\n",
        "              loss=\"binary_crossentropy\",\n",
        "              metrics=[\"accuracy\"])"
      ]
    },
    {
      "cell_type": "markdown",
      "metadata": {
        "id": "ByFMUplY_Svq"
      },
      "source": [
        "### Validating your approach"
      ]
    },
    {
      "cell_type": "markdown",
      "source": [
        "A deep learning model should never be evaluated on its\n",
        "training data— it's standard practice to use a validation set to monitor the accuracy of the model during training. Here, we'll create a validation set by setting apart 10,000 samples from the original training data."
      ],
      "metadata": {
        "id": "tGUv4SwlN0uo"
      }
    },
    {
      "cell_type": "markdown",
      "metadata": {
        "id": "KUPGNaU1_Svq"
      },
      "source": [
        "**Setting aside a validation set**"
      ]
    },
    {
      "cell_type": "code",
      "execution_count": null,
      "metadata": {
        "id": "mQyt-OEX_Svq"
      },
      "outputs": [],
      "source": [
        "x_val = x_train[:10000]\n",
        "partial_x_train = x_train[10000:]\n",
        "y_val = y_train[:10000]\n",
        "partial_y_train = y_train[10000:]"
      ]
    },
    {
      "cell_type": "markdown",
      "source": [
        "We will now train the model for 20 epochs (20 iterations over all samples in the training data) in mini-batches of 512 samples. At the same time, we will monitor loss and accuracy on the 10,000 samples that we set apart. We do so by passing the validation data as the `validation_data` argument."
      ],
      "metadata": {
        "id": "AGKKTn0VOMS_"
      }
    },
    {
      "cell_type": "markdown",
      "metadata": {
        "id": "SZvk4RDs_Svq"
      },
      "source": [
        "**Training your model**"
      ]
    },
    {
      "cell_type": "code",
      "execution_count": null,
      "metadata": {
        "id": "BAr-megJ_Svr",
        "outputId": "96df6854-9b30-45cf-f9c6-7a7a0b569f0b",
        "colab": {
          "base_uri": "https://localhost:8080/"
        },
        "collapsed": true
      },
      "outputs": [
        {
          "output_type": "stream",
          "name": "stdout",
          "text": [
            "Epoch 1/20\n",
            "30/30 [==============================] - 8s 61ms/step - loss: 0.5075 - accuracy: 0.7769 - val_loss: 0.3752 - val_accuracy: 0.8690\n",
            "Epoch 2/20\n",
            "30/30 [==============================] - 1s 26ms/step - loss: 0.3042 - accuracy: 0.8983 - val_loss: 0.3374 - val_accuracy: 0.8603\n",
            "Epoch 3/20\n",
            "30/30 [==============================] - 1s 27ms/step - loss: 0.2299 - accuracy: 0.9230 - val_loss: 0.3139 - val_accuracy: 0.8706\n",
            "Epoch 4/20\n",
            "30/30 [==============================] - 1s 26ms/step - loss: 0.1927 - accuracy: 0.9361 - val_loss: 0.2748 - val_accuracy: 0.8886\n",
            "Epoch 5/20\n",
            "30/30 [==============================] - 1s 27ms/step - loss: 0.1604 - accuracy: 0.9481 - val_loss: 0.2785 - val_accuracy: 0.8873\n",
            "Epoch 6/20\n",
            "30/30 [==============================] - 1s 27ms/step - loss: 0.1357 - accuracy: 0.9571 - val_loss: 0.3017 - val_accuracy: 0.8819\n",
            "Epoch 7/20\n",
            "30/30 [==============================] - 1s 26ms/step - loss: 0.1157 - accuracy: 0.9652 - val_loss: 0.3007 - val_accuracy: 0.8842\n",
            "Epoch 8/20\n",
            "30/30 [==============================] - 1s 28ms/step - loss: 0.1038 - accuracy: 0.9684 - val_loss: 0.3208 - val_accuracy: 0.8819\n",
            "Epoch 9/20\n",
            "30/30 [==============================] - 1s 43ms/step - loss: 0.0856 - accuracy: 0.9754 - val_loss: 0.3706 - val_accuracy: 0.8684\n",
            "Epoch 10/20\n",
            "30/30 [==============================] - 1s 46ms/step - loss: 0.0751 - accuracy: 0.9791 - val_loss: 0.3439 - val_accuracy: 0.8792\n",
            "Epoch 11/20\n",
            "30/30 [==============================] - 1s 24ms/step - loss: 0.0669 - accuracy: 0.9825 - val_loss: 0.3634 - val_accuracy: 0.8789\n",
            "Epoch 12/20\n",
            "30/30 [==============================] - 1s 27ms/step - loss: 0.0566 - accuracy: 0.9856 - val_loss: 0.3846 - val_accuracy: 0.8743\n",
            "Epoch 13/20\n",
            "30/30 [==============================] - 1s 26ms/step - loss: 0.0470 - accuracy: 0.9897 - val_loss: 0.4117 - val_accuracy: 0.8757\n",
            "Epoch 14/20\n",
            "30/30 [==============================] - 1s 25ms/step - loss: 0.0458 - accuracy: 0.9881 - val_loss: 0.4272 - val_accuracy: 0.8728\n",
            "Epoch 15/20\n",
            "30/30 [==============================] - 1s 24ms/step - loss: 0.0346 - accuracy: 0.9931 - val_loss: 0.4512 - val_accuracy: 0.8702\n",
            "Epoch 16/20\n",
            "30/30 [==============================] - 1s 25ms/step - loss: 0.0317 - accuracy: 0.9939 - val_loss: 0.4757 - val_accuracy: 0.8723\n",
            "Epoch 17/20\n",
            "30/30 [==============================] - 1s 25ms/step - loss: 0.0248 - accuracy: 0.9957 - val_loss: 0.5015 - val_accuracy: 0.8679\n",
            "Epoch 18/20\n",
            "30/30 [==============================] - 1s 26ms/step - loss: 0.0220 - accuracy: 0.9971 - val_loss: 0.5325 - val_accuracy: 0.8657\n",
            "Epoch 19/20\n",
            "30/30 [==============================] - 1s 27ms/step - loss: 0.0222 - accuracy: 0.9958 - val_loss: 0.5474 - val_accuracy: 0.8699\n",
            "Epoch 20/20\n",
            "30/30 [==============================] - 1s 26ms/step - loss: 0.0171 - accuracy: 0.9969 - val_loss: 0.5842 - val_accuracy: 0.8695\n"
          ]
        }
      ],
      "source": [
        "history = model.fit(partial_x_train,\n",
        "                    partial_y_train,\n",
        "                    epochs=20,\n",
        "                    batch_size=512,\n",
        "                    validation_data=(x_val, y_val))"
      ]
    },
    {
      "cell_type": "markdown",
      "source": [
        "On CPU, this will take less than 2 seconds per epoch—training is over in 20 seconds. At the end of every epoch, there is a slight pause as the model computes its loss and accuracy on the 10,000 samples of the validation data.\n",
        "\n",
        "Note that the call to `model.fit()` returns a History object.\n",
        "This object has a member history, which is a dictionary containing data about everything that happened during training. Let's look at it:"
      ],
      "metadata": {
        "id": "Ra1lyfwuO56w"
      }
    },
    {
      "cell_type": "code",
      "execution_count": null,
      "metadata": {
        "id": "XunZvUpi_Svr",
        "outputId": "7b1ff50d-f596-4827-afd9-80e87b880dcc",
        "colab": {
          "base_uri": "https://localhost:8080/"
        },
        "collapsed": true
      },
      "outputs": [
        {
          "output_type": "execute_result",
          "data": {
            "text/plain": [
              "dict_keys(['loss', 'accuracy', 'val_loss', 'val_accuracy'])"
            ]
          },
          "metadata": {},
          "execution_count": 14
        }
      ],
      "source": [
        "history_dict = history.history\n",
        "history_dict.keys()"
      ]
    },
    {
      "cell_type": "markdown",
      "source": [
        "The dictionary contains four entries: one per metric that was being monitored during training and during validation. In the following two listings, let's use Matplotlib to plot the training and validation loss side by side (see figure below), as well as the training and validation accuracy.\n",
        "\n",
        "Note that your own results may vary slightly due to\n",
        "a different random initialization of your model."
      ],
      "metadata": {
        "id": "A7c78lRgPHTM"
      }
    },
    {
      "cell_type": "markdown",
      "metadata": {
        "id": "XUB8UQws_Svr"
      },
      "source": [
        "**Plotting the training and validation loss**"
      ]
    },
    {
      "cell_type": "code",
      "execution_count": null,
      "metadata": {
        "id": "DAOL5kMS_Svr",
        "outputId": "ad13b252-a00b-481b-fc8a-9439c3668519",
        "colab": {
          "base_uri": "https://localhost:8080/",
          "height": 472
        },
        "collapsed": true
      },
      "outputs": [
        {
          "output_type": "display_data",
          "data": {
            "text/plain": [
              "<Figure size 640x480 with 1 Axes>"
            ],
            "image/png": "[encoded data removed]"
          },
          "metadata": {}
        }
      ],
      "source": [
        "import matplotlib.pyplot as plt\n",
        "history_dict = history.history\n",
        "loss_values = history_dict[\"loss\"]\n",
        "val_loss_values = history_dict[\"val_loss\"]\n",
        "epochs = range(1, len(loss_values) + 1)\n",
        "plt.plot(epochs, loss_values, \"bo\", label=\"Training loss\")                      # 'bo' is for a solid blue dot\n",
        "plt.plot(epochs, val_loss_values, \"b\", label=\"Validation loss\")                 # 'b' is for a solid blue line.\n",
        "plt.title(\"Training and validation loss\")\n",
        "plt.xlabel(\"Epochs\")\n",
        "plt.ylabel(\"Loss\")\n",
        "plt.legend()\n",
        "plt.show()"
      ]
    },
    {
      "cell_type": "markdown",
      "metadata": {
        "id": "a2u1_K1v_Svs"
      },
      "source": [
        "**Plotting the training and validation accuracy**"
      ]
    },
    {
      "cell_type": "code",
      "execution_count": null,
      "metadata": {
        "id": "BbDfzCru_Svs",
        "outputId": "6cea6990-c575-4a28-fa5e-34bcb47814a9",
        "colab": {
          "base_uri": "https://localhost:8080/",
          "height": 472
        },
        "collapsed": true
      },
      "outputs": [
        {
          "output_type": "display_data",
          "data": {
            "text/plain": [
              "<Figure size 640x480 with 1 Axes>"
            ],
            "image/png": "[encoded data removed]"
          },
          "metadata": {}
        }
      ],
      "source": [
        "plt.clf()                                                                       # Clears the figure\n",
        "acc = history_dict[\"accuracy\"]\n",
        "val_acc = history_dict[\"val_accuracy\"]\n",
        "plt.plot(epochs, acc, \"bo\", label=\"Training acc\")\n",
        "plt.plot(epochs, val_acc, \"b\", label=\"Validation acc\")\n",
        "plt.title(\"Training and validation accuracy\")\n",
        "plt.xlabel(\"Epochs\")\n",
        "plt.ylabel(\"Accuracy\")\n",
        "plt.legend()\n",
        "plt.show()"
      ]
    },
    {
      "cell_type": "markdown",
      "source": [
        "**What went wrong?**\n",
        "\n",
        "As you can see, the training loss decreases with every epoch, and the training accuracy increases  with  every  epoch.  That's  what  you  would  expect  when  running  gradient-descent  optimization— the  quantity  you're  trying  to  minimize  should  be  less  with every iteration. But that isn't the case for the validation loss and accuracy: they seem to peak  at  the  fourth  epoch.  \n",
        "\n",
        "This  is  an  example  of  what  can often happen:  a model  that  performs  better  on  the  training  data  isn't  necessarily  a  model  that  will\n",
        "do  better  on  data  it  has  never  seen  before.  In  precise  terms,  what  you're  seeing  is **overfitting**: after the fourth epoch, you’re overoptimizing on the training data, and you end up learning representations that are specific to the training data and don't generalize to data outside of the training set.\n",
        "\n",
        "In this case, to prevent overfitting, you could stop training after four epochs.  In general, you can use a range of techniques to mitigate overfitting.\n",
        "\n",
        "Let's train a new model from scratch for four epochs and then evaluate it on the\n",
        "test data."
      ],
      "metadata": {
        "id": "3xdEDFULP-im"
      }
    },
    {
      "cell_type": "markdown",
      "metadata": {
        "id": "IOa-xXWo_Svt"
      },
      "source": [
        "**Retraining a model from scratch**"
      ]
    },
    {
      "cell_type": "code",
      "execution_count": null,
      "metadata": {
        "id": "03T7SL9R_Svt",
        "outputId": "9babe771-056e-49b5-93da-9cc39c59e957",
        "colab": {
          "base_uri": "https://localhost:8080/"
        },
        "collapsed": true
      },
      "outputs": [
        {
          "output_type": "stream",
          "name": "stdout",
          "text": [
            "Epoch 1/4\n",
            "49/49 [==============================] - 2s 15ms/step - loss: 0.4676 - accuracy: 0.8130\n",
            "Epoch 2/4\n",
            "49/49 [==============================] - 1s 15ms/step - loss: 0.2721 - accuracy: 0.9035\n",
            "Epoch 3/4\n",
            "49/49 [==============================] - 1s 15ms/step - loss: 0.2150 - accuracy: 0.9223\n",
            "Epoch 4/4\n",
            "49/49 [==============================] - 1s 15ms/step - loss: 0.1834 - accuracy: 0.9332\n",
            "782/782 [==============================] - 3s 3ms/step - loss: 0.2852 - accuracy: 0.8849\n"
          ]
        }
      ],
      "source": [
        "model = keras.Sequential([\n",
        "    layers.Dense(16, activation=\"relu\"),\n",
        "    layers.Dense(16, activation=\"relu\"),\n",
        "    layers.Dense(1, activation=\"sigmoid\")\n",
        "])\n",
        "model.compile(optimizer=\"rmsprop\",\n",
        "              loss=\"binary_crossentropy\",\n",
        "              metrics=[\"accuracy\"])\n",
        "model.fit(x_train, y_train, epochs=4, batch_size=512)\n",
        "results = model.evaluate(x_test, y_test)"
      ]
    },
    {
      "cell_type": "markdown",
      "source": [
        "The final results are as follows:"
      ],
      "metadata": {
        "id": "beVkfI1lQrPN"
      }
    },
    {
      "cell_type": "code",
      "execution_count": null,
      "metadata": {
        "id": "nMDP6TAn_Svt",
        "outputId": "f9043a4f-0663-471a-9268-89926917ce9b",
        "colab": {
          "base_uri": "https://localhost:8080/"
        },
        "collapsed": true
      },
      "outputs": [
        {
          "output_type": "stream",
          "name": "stdout",
          "text": [
            "Test loss : 0.29, Test accuracy :  0.88\n"
          ]
        }
      ],
      "source": [
        "print(\"Test loss : %.2f, Test accuracy : %5.2f\" % (results[0], results[1]))"
      ]
    },
    {
      "cell_type": "markdown",
      "source": [
        "This fairly naive approach achieves an accuracy of 88%. With state-of-the-art\n",
        "approaches, you should be able to get close to 95%."
      ],
      "metadata": {
        "id": "WuCId8DJR9eq"
      }
    },
    {
      "cell_type": "markdown",
      "metadata": {
        "id": "PSj2Oyyo_Svt"
      },
      "source": [
        "### Using a trained model to generate predictions on new data"
      ]
    },
    {
      "cell_type": "markdown",
      "source": [
        "After having trained a model, you’ll want to use it in a practical setting. You can generate  the  likelihood  of  reviews  being  positive  by  using  the  predict  method:"
      ],
      "metadata": {
        "id": "ai2ZDLvPSHni"
      }
    },
    {
      "cell_type": "code",
      "execution_count": null,
      "metadata": {
        "id": "Fa0NyhE0_Svu",
        "outputId": "7cb317fd-431d-4876-c53a-8ac1fa97546f",
        "colab": {
          "base_uri": "https://localhost:8080/"
        },
        "collapsed": true
      },
      "outputs": [
        {
          "output_type": "stream",
          "name": "stdout",
          "text": [
            "782/782 [==============================] - 3s 3ms/step\n"
          ]
        },
        {
          "output_type": "execute_result",
          "data": {
            "text/plain": [
              "array([[0.27751926],\n",
              "       [0.9998518 ],\n",
              "       [0.8597748 ],\n",
              "       ...,\n",
              "       [0.13335061],\n",
              "       [0.10235423],\n",
              "       [0.6226922 ]], dtype=float32)"
            ]
          },
          "metadata": {},
          "execution_count": 19
        }
      ],
      "source": [
        "model.predict(x_test)"
      ]
    },
    {
      "cell_type": "markdown",
      "source": [
        "As  you  can  see,  the  model  is  confident  for  some  samples  (`0.99`  or  more,  or  `0.01`  or less) but less confident for others `(0.6, 0.4)`."
      ],
      "metadata": {
        "id": "HIUEDiJ6SMfa"
      }
    },
    {
      "cell_type": "markdown",
      "metadata": {
        "id": "D5vevSfH_Svu"
      },
      "source": [
        "### Further experiments"
      ]
    },
    {
      "cell_type": "markdown",
      "source": [
        "The following experiments will help convince you that the architecture choices you've made are all fairly reasonable, although there's still room for improvement:\n",
        "\n",
        "* You used two representation layers before the final classification layer. Try using\n",
        "one or three representation layers, and see how doing so affects validation and\n",
        "test accuracy.\n",
        "* Try using layers with more units or fewer units: 32 units, 64 units, and so on.\n",
        "* Try using the `mse` loss function instead of `binary_crossentropy`.\n",
        "* Try using the `tanh` activation (an activation that was popular in the early days of neural networks) instead of `relu`."
      ],
      "metadata": {
        "id": "zkZgbw5lSTih"
      }
    },
    {
      "cell_type": "markdown",
      "metadata": {
        "id": "FOwbUyDq_Svu"
      },
      "source": [
        "### Wrapping up"
      ]
    },
    {
      "cell_type": "markdown",
      "source": [
        "Here's what you should take away from this example:\n",
        "* You usually need to do quite a bit of preprocessing on your raw data in order to be able to feed it—as tensors—into a neural network. Sequences of words can\n",
        "be encoded as binary vectors, but there are other encoding options too.\n",
        "* Stacks of `Dense` layers with relu activations can solve a wide range of problems (including sentiment classification), and you'll likely use them frequently.\n",
        "* In a binary classification problem (two output classes), your model should end\n",
        "with  a  Dense  layer  with  one  unit  and  a sigmoid  activation:  the  output  of  your model should be a scalar between 0 and 1, encoding a probability.\n",
        "* With  such  a  scalar  sigmoid  output  on  a  binary  classification  problem,  the  loss function you should use is `binary_crossentropy`.\n",
        "* The `rmsprop` optimizer is generally a good enough choice, whatever your problem. That's one less thing for you to worry about.\n",
        "* As they get better on their training data, neural networks eventually start overfitting  and  end  up  obtaining  increasingly  worse  results  on  data  they've  never seen before. Be sure to always monitor performance on data that is outside of the training set."
      ],
      "metadata": {
        "id": "-dnS8LgvSpAB"
      }
    },
    {
      "cell_type": "markdown",
      "metadata": {
        "id": "x-AhLK6r_Svu"
      },
      "source": [
        "## Classifying newswires: A multiclass classification example"
      ]
    },
    {
      "cell_type": "markdown",
      "source": [
        "In the previous section, you saw how to classify vector inputs into two mutually exclusive  classes  using  a  densely  connected  neural  network.  But  what  happens  when  you have more than two classes?\n",
        "\n",
        "In this section, we'll build a model to classify Reuters newswires into 46 mutually exclusive  topics.  Because  we  have  many  classes,  this  problem  is  an  instance  of  *multi-class classification*, and because each data point should be classified into only one category, the problem is more specifically an instance of *single-label multiclass classification*.\n",
        "\n",
        "If each data point could belong to multiple categories (in this case, topics), we'd be facing a *multilabel multiclass classification problem*."
      ],
      "metadata": {
        "id": "_ZenCJsqT_QH"
      }
    },
    {
      "cell_type": "markdown",
      "metadata": {
        "id": "X5zeRFeO_Svv"
      },
      "source": [
        "### The Reuters dataset"
      ]
    },
    {
      "cell_type": "markdown",
      "source": [
        "We'll work with the *Reuters dataset*, a set of short newswires and their topics, published by Reuters in 1986. It's a simple, widely used toy dataset for text classification. There are 46 different topics; some topics are more represented than others, but each topic has at least 10 examples in the training set.\n",
        "\n",
        " Like IMDB and MNIST, the Reuters dataset comes packaged as part of Keras. Let's\n",
        "take a look."
      ],
      "metadata": {
        "id": "60mc28DSUQ0P"
      }
    },
    {
      "cell_type": "markdown",
      "metadata": {
        "id": "XdnsQAlC_Svv"
      },
      "source": [
        "**Loading the Reuters dataset**"
      ]
    },
    {
      "cell_type": "code",
      "execution_count": null,
      "metadata": {
        "id": "dcEOmfGz_Svv",
        "outputId": "acadbaf4-83c4-49c3-8260-0be1cb9874cf",
        "colab": {
          "base_uri": "https://localhost:8080/"
        },
        "collapsed": true
      },
      "outputs": [
        {
          "output_type": "stream",
          "name": "stdout",
          "text": [
            "Downloading data from https://storage.googleapis.com/tensorflow/tf-keras-datasets/reuters.npz\n",
            "2110848/2110848 [==============================] - 0s 0us/step\n"
          ]
        }
      ],
      "source": [
        "from tensorflow.keras.datasets import reuters\n",
        "(train_data, train_labels), (test_data, test_labels) = reuters.load_data(\n",
        "    num_words=10000)"
      ]
    },
    {
      "cell_type": "markdown",
      "source": [
        "As  with  the  IMDB  dataset,  the  argument  `num_words=10000`  restricts  the  data  to  the 10,000 most frequently occurring words found in the data.\n",
        "\n",
        "You have 8,982 training examples and 2,246 test examples:"
      ],
      "metadata": {
        "id": "lM1yTviQUfjF"
      }
    },
    {
      "cell_type": "code",
      "execution_count": null,
      "metadata": {
        "id": "lvexf_fN_Svv",
        "outputId": "6298dcc3-4f60-4f1f-f53e-044889d725c0",
        "colab": {
          "base_uri": "https://localhost:8080/"
        },
        "collapsed": true
      },
      "outputs": [
        {
          "output_type": "execute_result",
          "data": {
            "text/plain": [
              "8982"
            ]
          },
          "metadata": {},
          "execution_count": 21
        }
      ],
      "source": [
        "len(train_data)"
      ]
    },
    {
      "cell_type": "code",
      "execution_count": null,
      "metadata": {
        "id": "OHtkxwer_Svw",
        "outputId": "c8083498-1430-4d82-beed-843aefa8d0b9",
        "colab": {
          "base_uri": "https://localhost:8080/"
        },
        "collapsed": true
      },
      "outputs": [
        {
          "output_type": "execute_result",
          "data": {
            "text/plain": [
              "2246"
            ]
          },
          "metadata": {},
          "execution_count": 22
        }
      ],
      "source": [
        "len(test_data)"
      ]
    },
    {
      "cell_type": "markdown",
      "source": [
        "As with the IMDB reviews, each example is a list of integers (word indices):"
      ],
      "metadata": {
        "id": "OFFkRVI9UnM1"
      }
    },
    {
      "cell_type": "code",
      "execution_count": null,
      "metadata": {
        "id": "RidvQACq_Svw",
        "outputId": "ddb69a1f-e51e-41cc-fe89-ab40ebe48b0b",
        "colab": {
          "base_uri": "https://localhost:8080/"
        },
        "collapsed": true
      },
      "outputs": [
        {
          "output_type": "execute_result",
          "data": {
            "text/plain": [
              "array([   1,  245,  273,  207,  156,   53,   74,  160,   26,   14,   46,\n",
              "        296,   26,   39,   74, 2979, 3554,   14,   46, 4689, 4329,   86,\n",
              "         61, 3499, 4795,   14,   61,  451, 4329,   17,   12])"
            ]
          },
          "metadata": {},
          "execution_count": 23
        }
      ],
      "source": [
        "np.array(train_data[10])"
      ]
    },
    {
      "cell_type": "markdown",
      "source": [
        "Here’s how you can decode it back to words, in case you're curious."
      ],
      "metadata": {
        "id": "wMLH4KAhUygU"
      }
    },
    {
      "cell_type": "markdown",
      "metadata": {
        "id": "33RJdSki_Svw"
      },
      "source": [
        "**Decoding newswires back to text**"
      ]
    },
    {
      "cell_type": "code",
      "execution_count": null,
      "metadata": {
        "id": "k2Qkd54w_Svw",
        "outputId": "28110a37-7de8-435b-c53c-99f07bb5efdc",
        "colab": {
          "base_uri": "https://localhost:8080/"
        },
        "collapsed": true
      },
      "outputs": [
        {
          "output_type": "stream",
          "name": "stdout",
          "text": [
            "Downloading data from https://storage.googleapis.com/tensorflow/tf-keras-datasets/reuters_word_index.json\n",
            "550378/550378 [==============================] - 0s 0us/step\n"
          ]
        }
      ],
      "source": [
        "word_index = reuters.get_word_index()\n",
        "reverse_word_index = dict(\n",
        "    [(value, key) for (key, value) in word_index.items()])\n",
        "decoded_newswire = \" \".join([reverse_word_index.get(i - 3, \"?\") for i in        # Note that the indices are offset by 3 because 0, 1, and 2 are\n",
        "    train_data[0]])                                                             # reserved indices for padding, start of sequence, and unknown."
      ]
    },
    {
      "cell_type": "code",
      "source": [
        "# Print out the English text from the decoded newswire\n",
        "print(decoded_newswire[3:])"
      ],
      "metadata": {
        "id": "8WHf5oehVj3U",
        "outputId": "784f64e4-f899-4d31-9883-b2f350dfa26a",
        "colab": {
          "base_uri": "https://localhost:8080/"
        },
        "collapsed": true
      },
      "execution_count": null,
      "outputs": [
        {
          "output_type": "stream",
          "name": "stdout",
          "text": [
            " ? said as a result of its december acquisition of space co it expects earnings per share in 1987 of 1 15 to 1 30 dlrs per share up from 70 cts in 1986 the company said pretax net should rise to nine to 10 mln dlrs from six mln dlrs in 1986 and rental operation revenues to 19 to 22 mln dlrs from 12 5 mln dlrs it said cash flow per share this year should be 2 50 to three dlrs reuter 3\n"
          ]
        }
      ]
    },
    {
      "cell_type": "markdown",
      "source": [
        "The label associated with an example is an integer between 0 and 45— a topic index:"
      ],
      "metadata": {
        "id": "b6Bex-s2Wsuo"
      }
    },
    {
      "cell_type": "code",
      "execution_count": null,
      "metadata": {
        "id": "nAbJroZc_Svw",
        "outputId": "874f25db-6094-47f3-cc05-c022afe298dc",
        "colab": {
          "base_uri": "https://localhost:8080/"
        },
        "collapsed": true
      },
      "outputs": [
        {
          "output_type": "execute_result",
          "data": {
            "text/plain": [
              "19"
            ]
          },
          "metadata": {},
          "execution_count": 26
        }
      ],
      "source": [
        "train_labels[14]"
      ]
    },
    {
      "cell_type": "markdown",
      "metadata": {
        "id": "XHkm4kn9_Svw"
      },
      "source": [
        "### Preparing the data"
      ]
    },
    {
      "cell_type": "markdown",
      "source": [
        "You can vectorize the data with the exact same code as in the previous example."
      ],
      "metadata": {
        "id": "RtS9L3MTWy6X"
      }
    },
    {
      "cell_type": "markdown",
      "metadata": {
        "id": "BJnJKObE_Svy"
      },
      "source": [
        "**Encoding the input data**"
      ]
    },
    {
      "cell_type": "code",
      "execution_count": null,
      "metadata": {
        "id": "c4hB4e5g_Svy"
      },
      "outputs": [],
      "source": [
        "x_train = vectorize_sequences(train_data)                                       # Vectorized training data\n",
        "x_test = vectorize_sequences(test_data)                                         # Vectorized test data"
      ]
    },
    {
      "cell_type": "markdown",
      "source": [
        "To vectorize the labels, there are two possibilities: you can cast the label list as an integer tensor, or you can use *one-hot encoding*. One-hot encoding is a widely used format for  categorical  data,  also called *categorical  encoding*. In  this case, one-hot  encoding of the labels consists of embedding each label as an all-zero vector with a 1 in the place of the label index. The following listing shows an example."
      ],
      "metadata": {
        "id": "jP9TJkmlW_gm"
      }
    },
    {
      "cell_type": "markdown",
      "metadata": {
        "id": "7Yu3QETL_Svy"
      },
      "source": [
        "**Encoding the labels**"
      ]
    },
    {
      "cell_type": "code",
      "execution_count": null,
      "metadata": {
        "id": "8EAe16ah_Svy"
      },
      "outputs": [],
      "source": [
        "def to_one_hot(labels, dimension=46):\n",
        "    results = np.zeros((len(labels), dimension))\n",
        "    for i, label in enumerate(labels):\n",
        "        results[i, label] = 1.\n",
        "    return results\n",
        "y_train = to_one_hot(train_labels)                                              # Vectorized training labels\n",
        "y_test = to_one_hot(test_labels)                                                # Vectorized test labels"
      ]
    },
    {
      "cell_type": "markdown",
      "source": [
        "Note that there is a built-in way to do this in Keras:"
      ],
      "metadata": {
        "id": "hFJckpAmXzHI"
      }
    },
    {
      "cell_type": "code",
      "execution_count": null,
      "metadata": {
        "id": "5o5VmVLB_Svz"
      },
      "outputs": [],
      "source": [
        "from tensorflow.keras.utils import to_categorical\n",
        "y_train = to_categorical(train_labels)\n",
        "y_test = to_categorical(test_labels)"
      ]
    },
    {
      "cell_type": "markdown",
      "metadata": {
        "id": "XlF8YcU6_Svz"
      },
      "source": [
        "### Building your model"
      ]
    },
    {
      "cell_type": "markdown",
      "source": [
        "This topic-classification problem looks similar to the previous movie-review classification problem: in both cases, we're trying to classify short snippets of text. But there is a  new  constraint  here:  the  number  of  output  classes  has  gone  from  2  to  46.  The dimensionality of the output space is much larger.\n",
        "\n",
        "In a stack of `Dense` layers like those we've been using, each layer can only access information  present  in  the  output  of  the  previous  layer.  If  one  layer  drops  some information  relevant  to  the  classification  problem,  this  information  can  never  be recovered by later layers: each layer can potentially become an information bottle-neck.  In  the previous  example, we used 16-dimensional intermediate  layers, but  a 16-dimensional  space  may  be  too  limited  to  learn  to  separate  46  different  classes:\n",
        "such  small  layers  may  act  as  information  bottlenecks,  permanently  dropping  relevant information.\n",
        "\n",
        "For this reason we'll use larger layers. Let's go with 64 units."
      ],
      "metadata": {
        "id": "4OuSN_PVYog2"
      }
    },
    {
      "cell_type": "markdown",
      "metadata": {
        "id": "UBfnA3At_Svz"
      },
      "source": [
        "**Model definition**"
      ]
    },
    {
      "cell_type": "code",
      "execution_count": null,
      "metadata": {
        "id": "k8OEyGfS_Svz"
      },
      "outputs": [],
      "source": [
        "model = keras.Sequential([\n",
        "    layers.Dense(64, activation=\"relu\"),\n",
        "    layers.Dense(64, activation=\"relu\"),\n",
        "    layers.Dense(46, activation=\"softmax\")\n",
        "])"
      ]
    },
    {
      "cell_type": "markdown",
      "source": [
        "There are two other things you should note about this architecture:\n",
        "\n",
        " * First,  we  end the model  with  a `Dense` layer  of  size 46. This means for  each  input sample,  the  network  will  output  a  46-dimensional  vector.  Each  entry  in  this  vector (each dimension) will encode a different output class.\n",
        " * Second, the last layer uses a `softmax` activation. This pattern is the same as the MNIST example. It means the model will output a *probability distribution* over the 46 different output classes—for every input sample, the model will produce a 46-dimensional output vector, where `output[i]` is the probability that the sample belongs to class i. The 46 scores will sum to 1.\n",
        "\n",
        " The  best  loss  function  to  use  in  this  case  is  `categorical_crossentropy`.  It  measures the distance between two probability distributions: here, between the probability distribution output by the model and the true distribution of the labels. By minimizing the distance between these two distributions, you train the model to output something as close as possible to the true labels."
      ],
      "metadata": {
        "id": "KmyDwDMmZIuV"
      }
    },
    {
      "cell_type": "markdown",
      "metadata": {
        "id": "bw_spMnW_Sv0"
      },
      "source": [
        "**Compiling the model**"
      ]
    },
    {
      "cell_type": "code",
      "execution_count": null,
      "metadata": {
        "id": "E4_Npugp_Sv0"
      },
      "outputs": [],
      "source": [
        "model.compile(optimizer=\"rmsprop\",\n",
        "              loss=\"categorical_crossentropy\",\n",
        "              metrics=[\"accuracy\"])"
      ]
    },
    {
      "cell_type": "markdown",
      "metadata": {
        "id": "S_L52oDN_Sv0"
      },
      "source": [
        "### Validating your approach"
      ]
    },
    {
      "cell_type": "markdown",
      "source": [
        "Let’s set apart 1,000 samples in the training data to use as a validation set."
      ],
      "metadata": {
        "id": "RmCOebKFm1pi"
      }
    },
    {
      "cell_type": "markdown",
      "metadata": {
        "id": "BnBYNTiC_Sv0"
      },
      "source": [
        "**Setting aside a validation set**"
      ]
    },
    {
      "cell_type": "code",
      "execution_count": null,
      "metadata": {
        "id": "kOY2-sTr_Sv0"
      },
      "outputs": [],
      "source": [
        "x_val = x_train[:1000]\n",
        "partial_x_train = x_train[1000:]\n",
        "y_val = y_train[:1000]\n",
        "partial_y_train = y_train[1000:]"
      ]
    },
    {
      "cell_type": "markdown",
      "metadata": {
        "id": "BUn40PWl_Sv0"
      },
      "source": [
        "**Training the model**"
      ]
    },
    {
      "cell_type": "markdown",
      "source": [
        "Now, let’s train the model for 20 epochs."
      ],
      "metadata": {
        "id": "PxIns6Pkm4t_"
      }
    },
    {
      "cell_type": "code",
      "execution_count": null,
      "metadata": {
        "id": "wdWAC07j_Sv0",
        "outputId": "93e0341a-79b2-47a1-d219-312353a805cd",
        "colab": {
          "base_uri": "https://localhost:8080/"
        },
        "collapsed": true
      },
      "outputs": [
        {
          "output_type": "stream",
          "name": "stdout",
          "text": [
            "Epoch 1/20\n",
            "16/16 [==============================] - 2s 39ms/step - loss: 2.7070 - accuracy: 0.4746 - val_loss: 1.8198 - val_accuracy: 0.6300\n",
            "Epoch 2/20\n",
            "16/16 [==============================] - 0s 20ms/step - loss: 1.5097 - accuracy: 0.6938 - val_loss: 1.3611 - val_accuracy: 0.6940\n",
            "Epoch 3/20\n",
            "16/16 [==============================] - 0s 21ms/step - loss: 1.1537 - accuracy: 0.7507 - val_loss: 1.1904 - val_accuracy: 0.7260\n",
            "Epoch 4/20\n",
            "16/16 [==============================] - 0s 22ms/step - loss: 0.9460 - accuracy: 0.7944 - val_loss: 1.0964 - val_accuracy: 0.7630\n",
            "Epoch 5/20\n",
            "16/16 [==============================] - 0s 21ms/step - loss: 0.7870 - accuracy: 0.8281 - val_loss: 1.0380 - val_accuracy: 0.7700\n",
            "Epoch 6/20\n",
            "16/16 [==============================] - 0s 19ms/step - loss: 0.6585 - accuracy: 0.8569 - val_loss: 0.9782 - val_accuracy: 0.7920\n",
            "Epoch 7/20\n",
            "16/16 [==============================] - 0s 20ms/step - loss: 0.5555 - accuracy: 0.8825 - val_loss: 0.9456 - val_accuracy: 0.8080\n",
            "Epoch 8/20\n",
            "16/16 [==============================] - 0s 20ms/step - loss: 0.4690 - accuracy: 0.9063 - val_loss: 0.9542 - val_accuracy: 0.7940\n",
            "Epoch 9/20\n",
            "16/16 [==============================] - 0s 20ms/step - loss: 0.4001 - accuracy: 0.9143 - val_loss: 0.8927 - val_accuracy: 0.8190\n",
            "Epoch 10/20\n",
            "16/16 [==============================] - 0s 22ms/step - loss: 0.3447 - accuracy: 0.9266 - val_loss: 0.9042 - val_accuracy: 0.8120\n",
            "Epoch 11/20\n",
            "16/16 [==============================] - 0s 20ms/step - loss: 0.2965 - accuracy: 0.9366 - val_loss: 0.8908 - val_accuracy: 0.8200\n",
            "Epoch 12/20\n",
            "16/16 [==============================] - 0s 19ms/step - loss: 0.2617 - accuracy: 0.9421 - val_loss: 0.8977 - val_accuracy: 0.8110\n",
            "Epoch 13/20\n",
            "16/16 [==============================] - 0s 19ms/step - loss: 0.2282 - accuracy: 0.9480 - val_loss: 0.8955 - val_accuracy: 0.8230\n",
            "Epoch 14/20\n",
            "16/16 [==============================] - 0s 19ms/step - loss: 0.2073 - accuracy: 0.9493 - val_loss: 0.9126 - val_accuracy: 0.8070\n",
            "Epoch 15/20\n",
            "16/16 [==============================] - 0s 21ms/step - loss: 0.1899 - accuracy: 0.9523 - val_loss: 0.9366 - val_accuracy: 0.8120\n",
            "Epoch 16/20\n",
            "16/16 [==============================] - 0s 20ms/step - loss: 0.1754 - accuracy: 0.9544 - val_loss: 0.9272 - val_accuracy: 0.8080\n",
            "Epoch 17/20\n",
            "16/16 [==============================] - 0s 25ms/step - loss: 0.1562 - accuracy: 0.9557 - val_loss: 0.9383 - val_accuracy: 0.8110\n",
            "Epoch 18/20\n",
            "16/16 [==============================] - 0s 27ms/step - loss: 0.1560 - accuracy: 0.9572 - val_loss: 0.9524 - val_accuracy: 0.8150\n",
            "Epoch 19/20\n",
            "16/16 [==============================] - 0s 27ms/step - loss: 0.1425 - accuracy: 0.9560 - val_loss: 0.9891 - val_accuracy: 0.8070\n",
            "Epoch 20/20\n",
            "16/16 [==============================] - 0s 26ms/step - loss: 0.1356 - accuracy: 0.9565 - val_loss: 0.9372 - val_accuracy: 0.8110\n"
          ]
        }
      ],
      "source": [
        "history = model.fit(partial_x_train,\n",
        "                    partial_y_train,\n",
        "                    epochs=20,\n",
        "                    batch_size=512,\n",
        "                    validation_data=(x_val, y_val))"
      ]
    },
    {
      "cell_type": "markdown",
      "source": [
        "And finally, let’s display its loss and accuracy curves (see below)."
      ],
      "metadata": {
        "id": "Z-0xLNRfnB9-"
      }
    },
    {
      "cell_type": "markdown",
      "metadata": {
        "id": "DgXiwjpO_Sv2"
      },
      "source": [
        "**Plotting the training and validation loss**"
      ]
    },
    {
      "cell_type": "code",
      "execution_count": null,
      "metadata": {
        "id": "Cjt6XDU3_Sv2",
        "outputId": "b6b9f7f0-d235-42ba-a539-52ace7195eb5",
        "colab": {
          "base_uri": "https://localhost:8080/",
          "height": 472
        },
        "collapsed": true
      },
      "outputs": [
        {
          "output_type": "display_data",
          "data": {
            "text/plain": [
              "<Figure size 640x480 with 1 Axes>"
            ],
            "image/png": "[encoded data removed]"
          },
          "metadata": {}
        }
      ],
      "source": [
        "loss = history.history[\"loss\"]\n",
        "val_loss = history.history[\"val_loss\"]\n",
        "epochs = range(1, len(loss) + 1)\n",
        "plt.plot(epochs, loss, \"bo\", label=\"Training loss\")\n",
        "plt.plot(epochs, val_loss, \"b\", label=\"Validation loss\")\n",
        "plt.title(\"Training and validation loss\")\n",
        "plt.xlabel(\"Epochs\")\n",
        "plt.ylabel(\"Loss\")\n",
        "plt.legend()\n",
        "plt.show()"
      ]
    },
    {
      "cell_type": "markdown",
      "metadata": {
        "id": "bfnudUpg_Sv2"
      },
      "source": [
        "**Plotting the training and validation accuracy**"
      ]
    },
    {
      "cell_type": "code",
      "execution_count": null,
      "metadata": {
        "id": "Hud1ZmlP_Sv2",
        "outputId": "2e332efe-c06a-4542-dba9-3395bc01a0b0",
        "colab": {
          "base_uri": "https://localhost:8080/",
          "height": 472
        },
        "collapsed": true
      },
      "outputs": [
        {
          "output_type": "display_data",
          "data": {
            "text/plain": [
              "<Figure size 640x480 with 1 Axes>"
            ],
            "image/png": "[encoded data removed]"
          },
          "metadata": {}
        }
      ],
      "source": [
        "plt.clf()\n",
        "acc = history.history[\"accuracy\"]\n",
        "val_acc = history.history[\"val_accuracy\"]\n",
        "plt.plot(epochs, acc, \"bo\", label=\"Training accuracy\")\n",
        "plt.plot(epochs, val_acc, \"b\", label=\"Validation accuracy\")\n",
        "plt.title(\"Training and validation accuracy\")\n",
        "plt.xlabel(\"Epochs\")\n",
        "plt.ylabel(\"Accuracy\")\n",
        "plt.legend()\n",
        "plt.show()"
      ]
    },
    {
      "cell_type": "markdown",
      "source": [
        "The model begins to overfit after nine epochs. Let’s train a new model from scratch for nine epochs and then evaluate it on the test set."
      ],
      "metadata": {
        "id": "WK8d2KFVnHe2"
      }
    },
    {
      "cell_type": "markdown",
      "metadata": {
        "id": "2jjy8Xk4_Sv2"
      },
      "source": [
        "**Retraining a model from scratch**"
      ]
    },
    {
      "cell_type": "code",
      "execution_count": null,
      "metadata": {
        "id": "amsqgk4a_Sv3",
        "outputId": "68a676cb-9494-4cc5-9495-6cbf782bfb6b",
        "colab": {
          "base_uri": "https://localhost:8080/"
        },
        "collapsed": true
      },
      "outputs": [
        {
          "output_type": "stream",
          "name": "stdout",
          "text": [
            "Epoch 1/9\n",
            "18/18 [==============================] - 1s 16ms/step - loss: 2.5746 - accuracy: 0.5271\n",
            "Epoch 2/9\n",
            "18/18 [==============================] - 0s 17ms/step - loss: 1.4665 - accuracy: 0.6806\n",
            "Epoch 3/9\n",
            "18/18 [==============================] - 0s 15ms/step - loss: 1.1169 - accuracy: 0.7632\n",
            "Epoch 4/9\n",
            "18/18 [==============================] - 0s 15ms/step - loss: 0.9049 - accuracy: 0.8094\n",
            "Epoch 5/9\n",
            "18/18 [==============================] - 0s 16ms/step - loss: 0.7454 - accuracy: 0.8412\n",
            "Epoch 6/9\n",
            "18/18 [==============================] - 0s 16ms/step - loss: 0.6199 - accuracy: 0.8665\n",
            "Epoch 7/9\n",
            "18/18 [==============================] - 0s 16ms/step - loss: 0.5088 - accuracy: 0.8930\n",
            "Epoch 8/9\n",
            "18/18 [==============================] - 0s 16ms/step - loss: 0.4282 - accuracy: 0.9087\n",
            "Epoch 9/9\n",
            "18/18 [==============================] - 0s 15ms/step - loss: 0.3620 - accuracy: 0.9217\n",
            "71/71 [==============================] - 0s 3ms/step - loss: 0.9192 - accuracy: 0.7921\n"
          ]
        }
      ],
      "source": [
        "model = keras.Sequential([\n",
        "  layers.Dense(64, activation=\"relu\"),\n",
        "  layers.Dense(64, activation=\"relu\"),\n",
        "  layers.Dense(46, activation=\"softmax\"),\n",
        "])\n",
        "model.compile(optimizer=\"rmsprop\",\n",
        "              loss=\"categorical_crossentropy\",\n",
        "              metrics=[\"accuracy\"])\n",
        "model.fit(x_train,\n",
        "          y_train,\n",
        "          epochs=9,\n",
        "          batch_size=512)\n",
        "results = model.evaluate(x_test, y_test)"
      ]
    },
    {
      "cell_type": "markdown",
      "source": [
        "Here are the final results:"
      ],
      "metadata": {
        "id": "X46lBFaQnTFr"
      }
    },
    {
      "cell_type": "code",
      "execution_count": null,
      "metadata": {
        "id": "ZAEzl4M1_Sv3",
        "outputId": "b4f94375-68d6-4c6e-fdc3-996989a1f0ac",
        "colab": {
          "base_uri": "https://localhost:8080/"
        },
        "collapsed": true
      },
      "outputs": [
        {
          "output_type": "stream",
          "name": "stdout",
          "text": [
            "Test loss : 0.92, Test accuracy :  0.79\n"
          ]
        }
      ],
      "source": [
        "print(\"Test loss : %.2f, Test accuracy : %5.2f\" % (results[0], results[1]))"
      ]
    },
    {
      "cell_type": "markdown",
      "source": [
        "This  approach  reaches  an  accuracy  of  ~80%.  With  a  balanced  binary  classification problem,  the  accuracy  reached  by  a  purely  random  classifier  would  be  50%.  But  in this case, we have 46 classes, and they may not be equally represented. What would be the accuracy of a random baseline? We could try quickly implementing one to check\n",
        "this empirically:"
      ],
      "metadata": {
        "id": "rR-NbcNTnjA0"
      }
    },
    {
      "cell_type": "code",
      "execution_count": null,
      "metadata": {
        "id": "a5y1zG41_Sv3",
        "outputId": "14883a0e-bd22-4db6-ed8a-979452f58495",
        "colab": {
          "base_uri": "https://localhost:8080/"
        },
        "collapsed": true
      },
      "outputs": [
        {
          "output_type": "stream",
          "name": "stdout",
          "text": [
            "Accuracy of random classifier: 0.18\n"
          ]
        }
      ],
      "source": [
        "import copy\n",
        "test_labels_copy = copy.copy(test_labels)\n",
        "np.random.shuffle(test_labels_copy)\n",
        "hits_array = np.array(test_labels) == np.array(test_labels_copy)\n",
        "print(\"Accuracy of random classifier: %.2f\" % hits_array.mean())"
      ]
    },
    {
      "cell_type": "markdown",
      "source": [
        "As you can see, a random classifier would score around 19% classification accuracy, so the results of our model seem pretty good in that light."
      ],
      "metadata": {
        "id": "VmOfd_WUnp0S"
      }
    },
    {
      "cell_type": "markdown",
      "metadata": {
        "id": "hUQpfxc4_Sv3"
      },
      "source": [
        "### Generating predictions on new data"
      ]
    },
    {
      "cell_type": "markdown",
      "source": [
        "Calling the model's `predict` method on new samples returns a class probability distribution over all 46 topics for each sample. Let's generate topic predictions for all of the test data:"
      ],
      "metadata": {
        "id": "3VzvUKf7oCNI"
      }
    },
    {
      "cell_type": "code",
      "execution_count": null,
      "metadata": {
        "id": "igHsVMN1_Sv4",
        "outputId": "a8c557de-cbec-4292-bac9-c3bd76437bd6",
        "colab": {
          "base_uri": "https://localhost:8080/"
        },
        "collapsed": true
      },
      "outputs": [
        {
          "output_type": "stream",
          "name": "stdout",
          "text": [
            "71/71 [==============================] - 0s 3ms/step\n"
          ]
        }
      ],
      "source": [
        "predictions = model.predict(x_test)"
      ]
    },
    {
      "cell_type": "markdown",
      "source": [
        "Each entry in “predictions” is a vector of length 46:"
      ],
      "metadata": {
        "id": "qHELRjcboM45"
      }
    },
    {
      "cell_type": "code",
      "execution_count": null,
      "metadata": {
        "id": "aIXHzcbG_Sv4",
        "outputId": "51a04ea6-1c03-44c1-ef52-027515daf787",
        "colab": {
          "base_uri": "https://localhost:8080/"
        },
        "collapsed": true
      },
      "outputs": [
        {
          "output_type": "execute_result",
          "data": {
            "text/plain": [
              "(46,)"
            ]
          },
          "metadata": {},
          "execution_count": 40
        }
      ],
      "source": [
        "predictions[0].shape"
      ]
    },
    {
      "cell_type": "markdown",
      "source": [
        "The coefficients in this vector sum to 1, as they form a probability distribution:"
      ],
      "metadata": {
        "id": "HfFoWPiToP_g"
      }
    },
    {
      "cell_type": "code",
      "execution_count": null,
      "metadata": {
        "id": "izV9Of-A_Sv5",
        "outputId": "de9d42d6-122d-4019-8f29-f600a85f60ae",
        "colab": {
          "base_uri": "https://localhost:8080/"
        },
        "collapsed": true
      },
      "outputs": [
        {
          "output_type": "execute_result",
          "data": {
            "text/plain": [
              "1.0000001"
            ]
          },
          "metadata": {},
          "execution_count": 41
        }
      ],
      "source": [
        "np.sum(predictions[0])"
      ]
    },
    {
      "cell_type": "markdown",
      "source": [
        "The largest entry is the predicted class—the class with the highest probability:"
      ],
      "metadata": {
        "id": "-Yv9eQa-oTDn"
      }
    },
    {
      "cell_type": "code",
      "execution_count": null,
      "metadata": {
        "id": "9RqQk5fu_Sv5",
        "outputId": "98abd686-7024-4205-e4bf-68f9d8899189",
        "colab": {
          "base_uri": "https://localhost:8080/"
        },
        "collapsed": true
      },
      "outputs": [
        {
          "output_type": "execute_result",
          "data": {
            "text/plain": [
              "3"
            ]
          },
          "metadata": {},
          "execution_count": 42
        }
      ],
      "source": [
        "np.argmax(predictions[0])"
      ]
    },
    {
      "cell_type": "markdown",
      "metadata": {
        "id": "VPIIEsuA_Sv5"
      },
      "source": [
        "### A different way to handle the labels and the loss"
      ]
    },
    {
      "cell_type": "markdown",
      "source": [
        "We mentioned earlier that another way to encode the labels would be to cast them as an integer tensor, like this:"
      ],
      "metadata": {
        "id": "yywZkJE2obp4"
      }
    },
    {
      "cell_type": "code",
      "execution_count": null,
      "metadata": {
        "id": "282wsuc3_Sv5"
      },
      "outputs": [],
      "source": [
        "y_train = np.array(train_labels)\n",
        "y_test = np.array(test_labels)"
      ]
    },
    {
      "cell_type": "markdown",
      "source": [
        "The only thing this approach would change is the choice of the loss function. The loss function used above, `categorical_crossentropy`, expects the labels to follow a categorical  encoding.  With  integer  labels,  you  should  use `sparse_categorical_crossentropy`:"
      ],
      "metadata": {
        "id": "icwgCudIoemY"
      }
    },
    {
      "cell_type": "code",
      "execution_count": null,
      "metadata": {
        "id": "Uty1ugq4_Sv6"
      },
      "outputs": [],
      "source": [
        "model.compile(optimizer=\"rmsprop\",\n",
        "              loss=\"sparse_categorical_crossentropy\",\n",
        "              metrics=[\"accuracy\"])"
      ]
    },
    {
      "cell_type": "markdown",
      "source": [
        "This new loss function is still mathematically the same as `categorical_crossentropy`; it just has a different interface."
      ],
      "metadata": {
        "id": "ZwRQIbDNoqgn"
      }
    },
    {
      "cell_type": "markdown",
      "metadata": {
        "id": "3fHxsuOE_Sv6"
      },
      "source": [
        "### The importance of having sufficiently large intermediate layers"
      ]
    },
    {
      "cell_type": "markdown",
      "source": [
        "We mentioned earlier that because the final outputs are 46-dimensional, you should avoid intermediate layers with many fewer than 46 units. Now let’s see what happens when we introduce an information bottleneck by having intermediate layers that are significantly less than 46-dimensional: for example, 4-dimensional."
      ],
      "metadata": {
        "id": "cEr0k6m7o4sv"
      }
    },
    {
      "cell_type": "markdown",
      "metadata": {
        "id": "ZW4j03y__Sv6"
      },
      "source": [
        "**A model with an information bottleneck**"
      ]
    },
    {
      "cell_type": "code",
      "execution_count": null,
      "metadata": {
        "id": "rM_BiK7k_Sv6",
        "outputId": "9b9687cc-886f-4757-e2eb-ea1aa6f4a0b6",
        "colab": {
          "base_uri": "https://localhost:8080/"
        },
        "collapsed": true
      },
      "outputs": [
        {
          "output_type": "stream",
          "name": "stdout",
          "text": [
            "Epoch 1/20\n",
            "63/63 [==============================] - 2s 11ms/step - loss: 2.5632 - accuracy: 0.4282 - val_loss: 1.9202 - val_accuracy: 0.5150\n",
            "Epoch 2/20\n",
            "63/63 [==============================] - 1s 10ms/step - loss: 1.6779 - accuracy: 0.6208 - val_loss: 1.5465 - val_accuracy: 0.6280\n",
            "Epoch 3/20\n",
            "63/63 [==============================] - 1s 9ms/step - loss: 1.3863 - accuracy: 0.6528 - val_loss: 1.4212 - val_accuracy: 0.6460\n",
            "Epoch 4/20\n",
            "63/63 [==============================] - 1s 10ms/step - loss: 1.2230 - accuracy: 0.6758 - val_loss: 1.3543 - val_accuracy: 0.6490\n",
            "Epoch 5/20\n",
            "63/63 [==============================] - 1s 10ms/step - loss: 1.1067 - accuracy: 0.7016 - val_loss: 1.3121 - val_accuracy: 0.6640\n",
            "Epoch 6/20\n",
            "63/63 [==============================] - 1s 9ms/step - loss: 1.0182 - accuracy: 0.7266 - val_loss: 1.2913 - val_accuracy: 0.6800\n",
            "Epoch 7/20\n",
            "63/63 [==============================] - 0s 7ms/step - loss: 0.9432 - accuracy: 0.7422 - val_loss: 1.2849 - val_accuracy: 0.6850\n",
            "Epoch 8/20\n",
            "63/63 [==============================] - 0s 7ms/step - loss: 0.8822 - accuracy: 0.7557 - val_loss: 1.2826 - val_accuracy: 0.6990\n",
            "Epoch 9/20\n",
            "63/63 [==============================] - 1s 8ms/step - loss: 0.8241 - accuracy: 0.7757 - val_loss: 1.2967 - val_accuracy: 0.7000\n",
            "Epoch 10/20\n",
            "63/63 [==============================] - 0s 7ms/step - loss: 0.7770 - accuracy: 0.7860 - val_loss: 1.3225 - val_accuracy: 0.7030\n",
            "Epoch 11/20\n",
            "63/63 [==============================] - 0s 8ms/step - loss: 0.7333 - accuracy: 0.7927 - val_loss: 1.3092 - val_accuracy: 0.7020\n",
            "Epoch 12/20\n",
            "63/63 [==============================] - 0s 8ms/step - loss: 0.6940 - accuracy: 0.8063 - val_loss: 1.3449 - val_accuracy: 0.7070\n",
            "Epoch 13/20\n",
            "63/63 [==============================] - 1s 8ms/step - loss: 0.6624 - accuracy: 0.8145 - val_loss: 1.3634 - val_accuracy: 0.7130\n",
            "Epoch 14/20\n",
            "63/63 [==============================] - 0s 7ms/step - loss: 0.6320 - accuracy: 0.8222 - val_loss: 1.4108 - val_accuracy: 0.7180\n",
            "Epoch 15/20\n",
            "63/63 [==============================] - 0s 7ms/step - loss: 0.6058 - accuracy: 0.8255 - val_loss: 1.4588 - val_accuracy: 0.7130\n",
            "Epoch 16/20\n",
            "63/63 [==============================] - 0s 8ms/step - loss: 0.5820 - accuracy: 0.8295 - val_loss: 1.4330 - val_accuracy: 0.7210\n",
            "Epoch 17/20\n",
            "63/63 [==============================] - 0s 8ms/step - loss: 0.5607 - accuracy: 0.8297 - val_loss: 1.4836 - val_accuracy: 0.7130\n",
            "Epoch 18/20\n",
            "63/63 [==============================] - 1s 8ms/step - loss: 0.5428 - accuracy: 0.8336 - val_loss: 1.5468 - val_accuracy: 0.6980\n",
            "Epoch 19/20\n",
            "63/63 [==============================] - 0s 8ms/step - loss: 0.5236 - accuracy: 0.8379 - val_loss: 1.6115 - val_accuracy: 0.7120\n",
            "Epoch 20/20\n",
            "63/63 [==============================] - 0s 8ms/step - loss: 0.5074 - accuracy: 0.8410 - val_loss: 1.5833 - val_accuracy: 0.7130\n"
          ]
        },
        {
          "output_type": "execute_result",
          "data": {
            "text/plain": [
              "<keras.callbacks.History at 0x7f2e18da3010>"
            ]
          },
          "metadata": {},
          "execution_count": 45
        }
      ],
      "source": [
        "model = keras.Sequential([\n",
        "    layers.Dense(64, activation=\"relu\"),\n",
        "    layers.Dense(4, activation=\"relu\"),\n",
        "    layers.Dense(46, activation=\"softmax\")\n",
        "])\n",
        "model.compile(optimizer=\"rmsprop\",\n",
        "              loss=\"categorical_crossentropy\",\n",
        "              metrics=[\"accuracy\"])\n",
        "model.fit(partial_x_train,\n",
        "          partial_y_train,\n",
        "          epochs=20,\n",
        "          batch_size=128,\n",
        "          validation_data=(x_val, y_val))"
      ]
    },
    {
      "cell_type": "markdown",
      "source": [
        "The model now peaks at ~71% validation accuracy, an 8% absolute drop. This drop is mostly  due  to  the  fact  that  we're  trying  to  compress  a  lot  of  information  (enough information to recover the separation hyperplanes of 46 classes) into an intermediate space  that  is  too  low-dimensional.  The  model  is  able  to  cram  *most*  of  the  necessary information into these four-dimensional representations, but not all of it."
      ],
      "metadata": {
        "id": "ToXqYHtepAAW"
      }
    },
    {
      "cell_type": "markdown",
      "metadata": {
        "id": "hPPTQmGD_Sv7"
      },
      "source": [
        "### Further experiments"
      ]
    },
    {
      "cell_type": "markdown",
      "source": [
        "Like in the previous example, I encourage you to try out the following experiments to train your intuition about the kind of configuration decisions you have to make with such models:\n",
        "\n",
        "* Try using larger or smaller layers: 32 units, 128 units, and so on.\n",
        "* You  used  two  intermediate  layers  before  the  final  `softmax`  classification  layer. Now try using a single intermediate layer, or three intermediate layers."
      ],
      "metadata": {
        "id": "CgTdyvZQpM6-"
      }
    },
    {
      "cell_type": "markdown",
      "metadata": {
        "id": "SSqwcs5l_Sv7"
      },
      "source": [
        "### Wrapping up"
      ]
    },
    {
      "cell_type": "markdown",
      "source": [
        "Here's what you should take away from this example:\n",
        "\n",
        "*   If you're trying to classify data points among N classes, your model should end with a `Dense` layer of size N.\n",
        "*   In a single-label, multiclass classification problem, your model should end with a `softmax` activation so that it will output a probability distribution over the  N output classes.\n",
        "* Categorical  crossentropy  is  almost  always  the  loss  function  you  should  use  for such problems. It minimizes the distance between the probability distributions output by the model and the true distribution of the targets.\n",
        "* There are two ways to handle labels in multiclass classification:\n",
        "  - Encoding the labels via categorical encoding (also known as one-hot encoding) and using `categorical_crossentropy` as a loss function\n",
        "  - Encoding the labels as integers and using the `sparse_categorical_cross-entropy` loss function\n",
        "* If you need to classify data into a large number of categories, you should avoid creating information bottlenecks in your model due to intermediate layers that are too small.\n",
        "\n"
      ],
      "metadata": {
        "id": "g2Rrax3_pYP3"
      }
    },
    {
      "cell_type": "markdown",
      "metadata": {
        "id": "MdFcq89b_Sv7"
      },
      "source": [
        "## Predicting house prices: A regression example"
      ]
    },
    {
      "cell_type": "markdown",
      "source": [
        "The  two  previous  examples  were  considered  classification  problems,  where  the  goal was to predict a single discrete label of an input data point. Another common type of machine  learning  problem  is  *regression*,  which  consists  of  predicting  a  continuous value instead of a discrete label: for instance, predicting the temperature tomorrow, given  meteorological  data  or  predicting  the  time  that  a  software  project  will  take  to\n",
        "complete, given its specifications.\n",
        "\n",
        "**Note:** Don't confuse regression and the logistic regression algorithm. Confusingly, logistic regression isn't a regression algorithm— it's a classification algorithm."
      ],
      "metadata": {
        "id": "hb5AIw-pqR9n"
      }
    },
    {
      "cell_type": "markdown",
      "metadata": {
        "id": "Dk8DISbC_Sv7"
      },
      "source": [
        "### The Boston Housing Price dataset"
      ]
    },
    {
      "cell_type": "markdown",
      "source": [
        "In this section, we'll attempt to predict the median price of homes in a given Boston suburb in the mid-1970s, given data points about the suburb at the time, such as the crime rate, the local property tax rate, and so on. The dataset we'll use has an interesting difference from the two previous examples. It has relatively few data points: only 506, split between 404 training samples and 102 test samples. And each feature in the input data (for example, the crime rate) has a different scale. For instance, some values are proportions, which take values between 0 and 1, others take values between 1 and 12, others between 0 and 100, and so on."
      ],
      "metadata": {
        "id": "bddd-XriqlAl"
      }
    },
    {
      "cell_type": "markdown",
      "metadata": {
        "id": "nn_G8NYX_Sv7"
      },
      "source": [
        "**Loading the Boston housing dataset**"
      ]
    },
    {
      "cell_type": "code",
      "execution_count": null,
      "metadata": {
        "id": "uggHKhMo_Sv8",
        "outputId": "67d2ed37-12f4-4028-e6de-16bf13263cbf",
        "colab": {
          "base_uri": "https://localhost:8080/"
        },
        "collapsed": true
      },
      "outputs": [
        {
          "output_type": "stream",
          "name": "stdout",
          "text": [
            "Downloading data from https://storage.googleapis.com/tensorflow/tf-keras-datasets/boston_housing.npz\n",
            "57026/57026 [==============================] - 0s 0us/step\n"
          ]
        }
      ],
      "source": [
        "from tensorflow.keras.datasets import boston_housing\n",
        "(train_data, train_targets), (test_data, test_targets) = boston_housing.load_data()"
      ]
    },
    {
      "cell_type": "markdown",
      "source": [
        "Let's examine the shape of the data."
      ],
      "metadata": {
        "id": "_wyDHHGgqyNF"
      }
    },
    {
      "cell_type": "code",
      "execution_count": null,
      "metadata": {
        "id": "kvLDtBof_Sv8",
        "outputId": "0a018bb9-d5da-4a7b-f878-ee270570b92c",
        "colab": {
          "base_uri": "https://localhost:8080/"
        },
        "collapsed": true
      },
      "outputs": [
        {
          "output_type": "execute_result",
          "data": {
            "text/plain": [
              "(404, 13)"
            ]
          },
          "metadata": {},
          "execution_count": 47
        }
      ],
      "source": [
        "train_data.shape"
      ]
    },
    {
      "cell_type": "code",
      "execution_count": null,
      "metadata": {
        "id": "qGvfINhk_Sv9",
        "outputId": "acf23104-a8cf-4ea4-96e1-24688022e39b",
        "colab": {
          "base_uri": "https://localhost:8080/"
        },
        "collapsed": true
      },
      "outputs": [
        {
          "output_type": "execute_result",
          "data": {
            "text/plain": [
              "(102, 13)"
            ]
          },
          "metadata": {},
          "execution_count": 48
        }
      ],
      "source": [
        "test_data.shape"
      ]
    },
    {
      "cell_type": "markdown",
      "source": [
        "As  you  can  see,  we  have  404  training  samples  and  102  test  samples,  each  with  13 numerical features, such as per capita crime rate, average number of rooms per dwelling, accessibility to highways, and so on.\n",
        "\n",
        "The targets are the median values of owner-occupied homes, in thousands of dollars:"
      ],
      "metadata": {
        "id": "ySMthm5kq5Bt"
      }
    },
    {
      "cell_type": "code",
      "execution_count": null,
      "metadata": {
        "id": "infePTqg_Sv9",
        "outputId": "ebc93ec4-85b6-4c0a-e408-77c6b924324b",
        "colab": {
          "base_uri": "https://localhost:8080/"
        },
        "collapsed": true
      },
      "outputs": [
        {
          "output_type": "execute_result",
          "data": {
            "text/plain": [
              "array([15.2, 42.3, 50. , 21.1, 17.7, 18.5, 11.3, 15.6, 15.6, 14.4, 12.1,\n",
              "       17.9, 23.1, 19.9, 15.7,  8.8, 50. , 22.5, 24.1, 27.5, 10.9, 30.8,\n",
              "       32.9, 24. , 18.5, 13.3, 22.9, 34.7, 16.6, 17.5, 22.3, 16.1, 14.9,\n",
              "       23.1, 34.9, 25. , 13.9, 13.1, 20.4, 20. , 15.2, 24.7, 22.2, 16.7,\n",
              "       12.7, 15.6, 18.4, 21. , 30.1, 15.1, 18.7,  9.6, 31.5, 24.8, 19.1,\n",
              "       22. , 14.5, 11. , 32. , 29.4, 20.3, 24.4, 14.6, 19.5, 14.1, 14.3,\n",
              "       15.6, 10.5,  6.3, 19.3, 19.3, 13.4, 36.4, 17.8, 13.5, 16.5,  8.3,\n",
              "       14.3, 16. , 13.4, 28.6, 43.5, 20.2, 22. , 23. , 20.7, 12.5, 48.5,\n",
              "       14.6, 13.4, 23.7, 50. , 21.7, 39.8, 38.7, 22.2, 34.9, 22.5, 31.1,\n",
              "       28.7, 46. , 41.7, 21. , 26.6, 15. , 24.4, 13.3, 21.2, 11.7, 21.7,\n",
              "       19.4, 50. , 22.8, 19.7, 24.7, 36.2, 14.2, 18.9, 18.3, 20.6, 24.6,\n",
              "       18.2,  8.7, 44. , 10.4, 13.2, 21.2, 37. , 30.7, 22.9, 20. , 19.3,\n",
              "       31.7, 32. , 23.1, 18.8, 10.9, 50. , 19.6,  5. , 14.4, 19.8, 13.8,\n",
              "       19.6, 23.9, 24.5, 25. , 19.9, 17.2, 24.6, 13.5, 26.6, 21.4, 11.9,\n",
              "       22.6, 19.6,  8.5, 23.7, 23.1, 22.4, 20.5, 23.6, 18.4, 35.2, 23.1,\n",
              "       27.9, 20.6, 23.7, 28. , 13.6, 27.1, 23.6, 20.6, 18.2, 21.7, 17.1,\n",
              "        8.4, 25.3, 13.8, 22.2, 18.4, 20.7, 31.6, 30.5, 20.3,  8.8, 19.2,\n",
              "       19.4, 23.1, 23. , 14.8, 48.8, 22.6, 33.4, 21.1, 13.6, 32.2, 13.1,\n",
              "       23.4, 18.9, 23.9, 11.8, 23.3, 22.8, 19.6, 16.7, 13.4, 22.2, 20.4,\n",
              "       21.8, 26.4, 14.9, 24.1, 23.8, 12.3, 29.1, 21. , 19.5, 23.3, 23.8,\n",
              "       17.8, 11.5, 21.7, 19.9, 25. , 33.4, 28.5, 21.4, 24.3, 27.5, 33.1,\n",
              "       16.2, 23.3, 48.3, 22.9, 22.8, 13.1, 12.7, 22.6, 15. , 15.3, 10.5,\n",
              "       24. , 18.5, 21.7, 19.5, 33.2, 23.2,  5. , 19.1, 12.7, 22.3, 10.2,\n",
              "       13.9, 16.3, 17. , 20.1, 29.9, 17.2, 37.3, 45.4, 17.8, 23.2, 29. ,\n",
              "       22. , 18. , 17.4, 34.6, 20.1, 25. , 15.6, 24.8, 28.2, 21.2, 21.4,\n",
              "       23.8, 31. , 26.2, 17.4, 37.9, 17.5, 20. ,  8.3, 23.9,  8.4, 13.8,\n",
              "        7.2, 11.7, 17.1, 21.6, 50. , 16.1, 20.4, 20.6, 21.4, 20.6, 36.5,\n",
              "        8.5, 24.8, 10.8, 21.9, 17.3, 18.9, 36.2, 14.9, 18.2, 33.3, 21.8,\n",
              "       19.7, 31.6, 24.8, 19.4, 22.8,  7.5, 44.8, 16.8, 18.7, 50. , 50. ,\n",
              "       19.5, 20.1, 50. , 17.2, 20.8, 19.3, 41.3, 20.4, 20.5, 13.8, 16.5,\n",
              "       23.9, 20.6, 31.5, 23.3, 16.8, 14. , 33.8, 36.1, 12.8, 18.3, 18.7,\n",
              "       19.1, 29. , 30.1, 50. , 50. , 22. , 11.9, 37.6, 50. , 22.7, 20.8,\n",
              "       23.5, 27.9, 50. , 19.3, 23.9, 22.6, 15.2, 21.7, 19.2, 43.8, 20.3,\n",
              "       33.2, 19.9, 22.5, 32.7, 22. , 17.1, 19. , 15. , 16.1, 25.1, 23.7,\n",
              "       28.7, 37.2, 22.6, 16.4, 25. , 29.8, 22.1, 17.4, 18.1, 30.3, 17.5,\n",
              "       24.7, 12.6, 26.5, 28.7, 13.3, 10.4, 24.4, 23. , 20. , 17.8,  7. ,\n",
              "       11.8, 24.4, 13.8, 19.4, 25.2, 19.4, 19.4, 29.1])"
            ]
          },
          "metadata": {},
          "execution_count": 49
        }
      ],
      "source": [
        "train_targets"
      ]
    },
    {
      "cell_type": "markdown",
      "source": [
        "The prices are typically between \\$10,000 and \\$50,000. If that sounds cheap, remember that this was the mid-1970s, and these prices aren't adjusted for inflation."
      ],
      "metadata": {
        "id": "MB3jZQFdrFpd"
      }
    },
    {
      "cell_type": "markdown",
      "metadata": {
        "id": "g8ukctZH_Sv9"
      },
      "source": [
        "### Preparing the data"
      ]
    },
    {
      "cell_type": "markdown",
      "source": [
        "It would be problematic to feed into a neural network values that all take wildly different  ranges.  The  model  might  be  able  to  automatically  adapt  to  such  heterogeneous data, but it would definitely make learning more difficult. A widespread best practice for dealing with such data is to do feature-wise normalization: for each feature in the input data (a column in the input data matrix), we subtract the mean of the feature and divide by the standard deviation, so that the feature is centered around 0 and has\n",
        "a unit standard deviation. This is easily done in NumPy."
      ],
      "metadata": {
        "id": "rRqjFw99rhk9"
      }
    },
    {
      "cell_type": "markdown",
      "metadata": {
        "id": "9OxTsTlG_Sv9"
      },
      "source": [
        "**Normalizing the data**"
      ]
    },
    {
      "cell_type": "code",
      "execution_count": null,
      "metadata": {
        "id": "BleQ7VA0_Sv-"
      },
      "outputs": [],
      "source": [
        "mean = train_data.mean(axis=0)\n",
        "train_data -= mean\n",
        "std = train_data.std(axis=0)\n",
        "train_data /= std\n",
        "test_data -= mean\n",
        "test_data /= std"
      ]
    },
    {
      "cell_type": "markdown",
      "source": [
        "Note  that  the  quantities  used  for  normalizing  the  test  data  are  computed  using  the training  data.  You  should  never  use  any  quantity  computed  on  the  test  data  in  your workflow, even for something as simple as data normalization."
      ],
      "metadata": {
        "id": "OZ3ZNjQErt3G"
      }
    },
    {
      "cell_type": "markdown",
      "metadata": {
        "id": "S2enxfew_Sv-"
      },
      "source": [
        "### Building your model"
      ]
    },
    {
      "cell_type": "markdown",
      "source": [
        "Because so few samples are available, we'll use a very small model with two intermediate  layers,  each  with  64  units.  In  general,  the  less  training  data  you  have,  the  worse overfitting will be, and using a small model is one way to mitigate overfitting."
      ],
      "metadata": {
        "id": "aTjP-Kurrykl"
      }
    },
    {
      "cell_type": "markdown",
      "metadata": {
        "id": "fS4KUU-I_Sv-"
      },
      "source": [
        "**Model definition**"
      ]
    },
    {
      "cell_type": "code",
      "execution_count": null,
      "metadata": {
        "id": "P1fBTF6b_Sv_"
      },
      "outputs": [],
      "source": [
        "def build_model():\n",
        "    model = keras.Sequential([                                                  # Because we need to instantiate the same model multiple times,\n",
        "        layers.Dense(64, activation=\"relu\"),                                    # we use a function to construct it.\n",
        "        layers.Dense(64, activation=\"relu\"),\n",
        "        layers.Dense(1)\n",
        "    ])\n",
        "    model.compile(optimizer=\"rmsprop\", loss=\"mse\", metrics=[\"mae\"])\n",
        "    return model"
      ]
    },
    {
      "cell_type": "markdown",
      "source": [
        "The model ends with a single unit and no activation (it will be a **linear layer**). This is a typical setup for scalar regression (a regression where you're trying to predict a single continuous value). Applying an activation function would constrain the range the output can take; for instance, if you applied a `sigmoid` activation function to the last layer, the model could only learn to predict values between 0 and 1. Here, because the last\n",
        "layer is purely linear, the model is free to learn to predict values in any range.\n",
        "\n",
        "Note that we compile the model with the `mse` loss function—*mean squared error*, the square of the difference between the predictions and the targets. This is a widely used loss function for regression problems.\n",
        "\n",
        "We’re also monitoring a new metric during training: *mean absolute error* (MAE). It’s the absolute value of the difference between the predictions and the targets. For instance, an MAE of 0.5 on this problem would mean your predictions are off by \\$500 on average."
      ],
      "metadata": {
        "id": "5oOZnUiEsB2t"
      }
    },
    {
      "cell_type": "markdown",
      "metadata": {
        "id": "oMs3L5Rg_SwA"
      },
      "source": [
        "### Validating your approach using K-fold validation"
      ]
    },
    {
      "cell_type": "markdown",
      "source": [
        "To evaluate our model while we keep adjusting its parameters (such as the number of epochs used for training), we could split the data into a training set and a validation set, as we did in the previous examples. But because we have so few data points, the validation set would end up being very small (for instance, about 100 examples). As a consequence,  the  validation  scores  might  change  a  lot  depending  on  which  data points we chose for validation and which we chose for training: the validation scores might have a **high variance** with regard to the validation split. This would prevent us\n",
        "from reliably evaluating our model.\n",
        "\n",
        "The best practice in such situations is to use K-*fold* cross-validation (see figure 4)."
      ],
      "metadata": {
        "id": "XQ3keWW6tSzF"
      }
    },
    {
      "cell_type": "markdown",
      "source": [
        "![image.png](data:image/png;base64,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)"
      ],
      "metadata": {
        "id": "RINtEaS5tiot"
      }
    },
    {
      "cell_type": "markdown",
      "source": [
        "It consists of splitting the available data into K partitions (typically K = 4 or 5), instantiating K identical models, and training each one on  K - 1 partitions while evaluating on the remaining partition. The validation score for the model used is then the average of the K validation scores obtained. The code to do this is shown below."
      ],
      "metadata": {
        "id": "kUKAHhgyvC50"
      }
    },
    {
      "cell_type": "markdown",
      "metadata": {
        "id": "q6zrXQSu_SwA"
      },
      "source": [
        "**K-fold validation**"
      ]
    },
    {
      "cell_type": "code",
      "execution_count": null,
      "metadata": {
        "id": "3Ov5pL7k_SwA",
        "outputId": "d2650cdd-31e9-4d9e-91f9-bcb9c8eb6ada",
        "colab": {
          "base_uri": "https://localhost:8080/"
        },
        "collapsed": true
      },
      "outputs": [
        {
          "output_type": "stream",
          "name": "stdout",
          "text": [
            "Processing fold #0\n",
            "Processing fold #1\n",
            "Processing fold #2\n",
            "Processing fold #3\n"
          ]
        }
      ],
      "source": [
        "k = 4\n",
        "num_val_samples = len(train_data) // k\n",
        "num_epochs = 100\n",
        "all_scores = []\n",
        "for i in range(k):\n",
        "    print(f\"Processing fold #{i}\")\n",
        "    val_data = train_data[i * num_val_samples: (i + 1) * num_val_samples]       # Prepares the validation data: data from partition #k\n",
        "    val_targets = train_targets[i * num_val_samples: (i + 1) * num_val_samples]\n",
        "    partial_train_data = np.concatenate(                                        # Prepares the training data: data from all other partitions\n",
        "        [train_data[:i * num_val_samples],\n",
        "         train_data[(i + 1) * num_val_samples:]],\n",
        "        axis=0)\n",
        "    partial_train_targets = np.concatenate(\n",
        "        [train_targets[:i * num_val_samples],\n",
        "         train_targets[(i + 1) * num_val_samples:]],\n",
        "        axis=0)\n",
        "    model = build_model()                                                       # Builds the Keras model (already compiled)\n",
        "    model.fit(partial_train_data, partial_train_targets,\n",
        "              epochs=num_epochs, batch_size=16, verbose=0)                      # Trains the model (in silent mode, verbose = 0)\n",
        "    val_mse, val_mae = model.evaluate(val_data, val_targets, verbose=0)         # Evaluates the model on the validation data\n",
        "    all_scores.append(val_mae)"
      ]
    },
    {
      "cell_type": "markdown",
      "source": [
        "Running this with `num_epochs = 100` yields the following results:"
      ],
      "metadata": {
        "id": "s_39_PvnwQbB"
      }
    },
    {
      "cell_type": "code",
      "execution_count": null,
      "metadata": {
        "id": "SZK-cYjB_SwA",
        "outputId": "f666ac09-fb58-483f-fafd-d51a86a8a031",
        "colab": {
          "base_uri": "https://localhost:8080/"
        },
        "collapsed": true
      },
      "outputs": [
        {
          "output_type": "execute_result",
          "data": {
            "text/plain": [
              "[1.9678255319595337, 2.502696990966797, 2.5368764400482178, 2.473658323287964]"
            ]
          },
          "metadata": {},
          "execution_count": 53
        }
      ],
      "source": [
        "all_scores"
      ]
    },
    {
      "cell_type": "code",
      "execution_count": null,
      "metadata": {
        "id": "8XsIvQhT_SwB",
        "outputId": "88f2bbfc-b9dd-432f-d798-d3fe4e7f7264",
        "colab": {
          "base_uri": "https://localhost:8080/"
        },
        "collapsed": true
      },
      "outputs": [
        {
          "output_type": "execute_result",
          "data": {
            "text/plain": [
              "2.370264321565628"
            ]
          },
          "metadata": {},
          "execution_count": 54
        }
      ],
      "source": [
        "np.mean(all_scores)"
      ]
    },
    {
      "cell_type": "markdown",
      "source": [
        "The different runs do indeed show rather different validation scores, from 2.1 to 3.1. The  average  (2.6)  is  a  much  more  reliable  metric  than  any  single  score—that's  the entire  point  of  K-fold  cross-validation.  In  this  case,  we're  off  by  \\$2,600  on  average, which is significant considering that the prices range from \\$10,000 to \\$50,000.\n",
        "\n",
        "Let's try training the model a bit longer: 500 epochs. To keep a record of how well the  model  does  at  each  epoch,  we'll  modify  the  training  loop  to  save  the  per-epoch validation score log for each fold."
      ],
      "metadata": {
        "id": "JiarvOKBwUYw"
      }
    },
    {
      "cell_type": "markdown",
      "metadata": {
        "id": "vsAvGSE2_SwC"
      },
      "source": [
        "**Saving the validation logs at each fold**"
      ]
    },
    {
      "cell_type": "code",
      "execution_count": null,
      "metadata": {
        "id": "DWsG7Jj5_SwC",
        "outputId": "c1d52456-45d5-4ec4-ca3a-df9db952cb91",
        "colab": {
          "base_uri": "https://localhost:8080/"
        },
        "collapsed": true
      },
      "outputs": [
        {
          "output_type": "stream",
          "name": "stdout",
          "text": [
            "Processing fold #0\n",
            "Processing fold #1\n",
            "Processing fold #2\n",
            "Processing fold #3\n"
          ]
        }
      ],
      "source": [
        "num_epochs = 500\n",
        "all_mae_histories = []\n",
        "for i in range(k):\n",
        "    print(f\"Processing fold #{i}\")\n",
        "    val_data = train_data[i * num_val_samples: (i + 1) * num_val_samples]       # Prepares the validation data: data from partition #k\n",
        "    val_targets = train_targets[i * num_val_samples: (i + 1) * num_val_samples]\n",
        "    partial_train_data = np.concatenate(                                        # Prepares the training data: data from all other partitions\n",
        "        [train_data[:i * num_val_samples],\n",
        "         train_data[(i + 1) * num_val_samples:]],\n",
        "        axis=0)\n",
        "    partial_train_targets = np.concatenate(\n",
        "        [train_targets[:i * num_val_samples],\n",
        "         train_targets[(i + 1) * num_val_samples:]],\n",
        "        axis=0)\n",
        "    model = build_model()                                                       # Builds the Keras model (already compiled)\n",
        "    history = model.fit(partial_train_data, partial_train_targets,\n",
        "                        validation_data=(val_data, val_targets),\n",
        "                        epochs=num_epochs, batch_size=16, verbose=0)            # Trains the model (in silent mode, verbose = 0)\n",
        "    mae_history = history.history[\"val_mae\"]\n",
        "    all_mae_histories.append(mae_history)"
      ]
    },
    {
      "cell_type": "markdown",
      "source": [
        "We can then compute the average of the per-epoch MAE scores for all folds."
      ],
      "metadata": {
        "id": "p7s7qAeXxD4f"
      }
    },
    {
      "cell_type": "markdown",
      "metadata": {
        "id": "MKT7Gc10_SwC"
      },
      "source": [
        "**Building the history of successive mean K-fold validation scores**"
      ]
    },
    {
      "cell_type": "code",
      "execution_count": null,
      "metadata": {
        "id": "uwg3fEgX_SwC"
      },
      "outputs": [],
      "source": [
        "average_mae_history = [\n",
        "    np.mean([x[i] for x in all_mae_histories]) for i in range(num_epochs)]"
      ]
    },
    {
      "cell_type": "markdown",
      "source": [
        "Let's plot this; see below."
      ],
      "metadata": {
        "id": "e9JdD78Mxcf3"
      }
    },
    {
      "cell_type": "markdown",
      "metadata": {
        "id": "9ACLLewO_SwC"
      },
      "source": [
        "**Plotting validation scores**"
      ]
    },
    {
      "cell_type": "code",
      "execution_count": null,
      "metadata": {
        "id": "UTR3Bg-K_SwD",
        "outputId": "a169e8fe-1435-4b0d-9c4c-953aafab1636",
        "colab": {
          "base_uri": "https://localhost:8080/",
          "height": 449
        },
        "collapsed": true
      },
      "outputs": [
        {
          "output_type": "display_data",
          "data": {
            "text/plain": [
              "<Figure size 640x480 with 1 Axes>"
            ],
            "image/png": "[encoded data removed]"
          },
          "metadata": {}
        }
      ],
      "source": [
        "plt.plot(range(1, len(average_mae_history) + 1), average_mae_history)\n",
        "plt.xlabel(\"Epochs\")\n",
        "plt.ylabel(\"Validation MAE\")\n",
        "plt.show()"
      ]
    },
    {
      "cell_type": "markdown",
      "source": [
        "It may be a little difficult to read the plot, due to a scaling issue: the validation MAE for the first few epochs is dramatically higher than the values that follow. Let's omit the first 10 data points, which are on a different scale than the rest of the curve."
      ],
      "metadata": {
        "id": "DeekCVECxlKm"
      }
    },
    {
      "cell_type": "markdown",
      "metadata": {
        "id": "LEvWYEDh_SwD"
      },
      "source": [
        "**Plotting validation scores, excluding the first 10 data points**"
      ]
    },
    {
      "cell_type": "code",
      "execution_count": null,
      "metadata": {
        "id": "BcHqDDjH_SwD",
        "outputId": "a7f47070-7a74-4837-bd6c-388a52025d5f",
        "colab": {
          "base_uri": "https://localhost:8080/",
          "height": 449
        },
        "collapsed": true
      },
      "outputs": [
        {
          "output_type": "display_data",
          "data": {
            "text/plain": [
              "<Figure size 640x480 with 1 Axes>"
            ],
            "image/png": "[encoded data removed]"
          },
          "metadata": {}
        }
      ],
      "source": [
        "truncated_mae_history = average_mae_history[10:]\n",
        "plt.plot(range(1, len(truncated_mae_history) + 1), truncated_mae_history)\n",
        "plt.xlabel(\"Epochs\")\n",
        "plt.ylabel(\"Validation MAE\")\n",
        "plt.show()"
      ]
    },
    {
      "cell_type": "markdown",
      "source": [
        "As  you  can  see  in  figure  4.10,  validation  MAE  stops  improving  significantly  after 120-140 epochs (this number includes the 10 epochs we omitted). Past that point, we start **overfitting**.\n",
        "\n",
        "Once  you're  finished  tuning  other  parameters  of  the  model  (in  addition  to  the number of epochs, you could also adjust the size of the intermediate layers), you can train  a  final  production  model  on  all of  the  training data,  with  the best  parameters, and then look at its performance on the test data."
      ],
      "metadata": {
        "id": "2Rzb9HcrxuNg"
      }
    },
    {
      "cell_type": "markdown",
      "metadata": {
        "id": "oVHwnOCZ_SwE"
      },
      "source": [
        "**Training the final model**"
      ]
    },
    {
      "cell_type": "code",
      "execution_count": null,
      "metadata": {
        "id": "RsiXyzKG_SwE",
        "outputId": "030435b6-7b51-41e1-f204-acc68e7f4249",
        "colab": {
          "base_uri": "https://localhost:8080/"
        },
        "collapsed": true
      },
      "outputs": [
        {
          "output_type": "stream",
          "name": "stdout",
          "text": [
            "4/4 [==============================] - 0s 4ms/step - loss: 17.7063 - mae: 2.7343\n"
          ]
        }
      ],
      "source": [
        "model = build_model()                                                           # Obtain a fresh, compiled model\n",
        "model.fit(train_data, train_targets,                                            # Trains the model on the entirety of the data\n",
        "          epochs=130, batch_size=16, verbose=0)\n",
        "test_mse_score, test_mae_score = model.evaluate(test_data, test_targets)"
      ]
    },
    {
      "cell_type": "markdown",
      "source": [
        "Here's the final result:"
      ],
      "metadata": {
        "id": "UCRE8rIjyOC2"
      }
    },
    {
      "cell_type": "code",
      "execution_count": null,
      "metadata": {
        "id": "ZnjA7OZ4_SwE",
        "outputId": "bc347d8a-8bbd-4e74-b393-c1451845d3f1",
        "colab": {
          "base_uri": "https://localhost:8080/"
        },
        "collapsed": true
      },
      "outputs": [
        {
          "output_type": "execute_result",
          "data": {
            "text/plain": [
              "2.7342827320098877"
            ]
          },
          "metadata": {},
          "execution_count": 60
        }
      ],
      "source": [
        "test_mae_score"
      ]
    },
    {
      "cell_type": "markdown",
      "source": [
        "We're still off by a bit under $2,500. It's an improvement! Just like with the two previous  tasks,  you  can  try  varying  the  number  of  layers  in  the  model,  or  the  number  of units per layer, to see if you can squeeze out a lower test error."
      ],
      "metadata": {
        "id": "E8TKqGGXyS3d"
      }
    },
    {
      "cell_type": "markdown",
      "metadata": {
        "id": "TTMsJB27_SwE"
      },
      "source": [
        "### Generating predictions on new data"
      ]
    },
    {
      "cell_type": "markdown",
      "source": [
        "When calling `predict()` on our binary classification model, we retrieved a scalar score between 0 and 1 for each input sample. With our multiclass classification model, we retrieved a probability distribution over all classes for each sample. Now, with this scalar  regression model, `predict()` returns the  model's guess  for  the  sample's price in thousands of dollars:"
      ],
      "metadata": {
        "id": "r3O2oWSCyec1"
      }
    },
    {
      "cell_type": "code",
      "execution_count": null,
      "metadata": {
        "id": "bLRk9hPG_SwE",
        "outputId": "30ff9249-283d-40e7-b615-dfd85cbd2278",
        "colab": {
          "base_uri": "https://localhost:8080/"
        },
        "collapsed": true
      },
      "outputs": [
        {
          "output_type": "stream",
          "name": "stdout",
          "text": [
            "4/4 [==============================] - 0s 3ms/step\n",
            "Value of first house: 8.20266\n"
          ]
        }
      ],
      "source": [
        "predictions = model.predict(test_data)\n",
        "print(\"Value of first house: %.5f\" % predictions[0])"
      ]
    },
    {
      "cell_type": "markdown",
      "source": [
        "The first house in the test set is predicted to have a price of about \\$10,000."
      ],
      "metadata": {
        "id": "lZM9jZb9yq4F"
      }
    },
    {
      "cell_type": "markdown",
      "metadata": {
        "id": "vb-4esBf_SwF"
      },
      "source": [
        "### Wrapping up"
      ]
    },
    {
      "cell_type": "markdown",
      "source": [
        "Here's what you should take away from this scalar regression example:\n",
        "\n",
        "* Regression is done using different loss functions than we used for classification. Mean squared error (MSE) is a loss function commonly used for regression.\n",
        "* Similarly, evaluation metrics to be used for regression differ from those used for classification; naturally, the concept of accuracy doesn't apply for regression. A common regression metric is mean absolute error (MAE).\n",
        "* When  features  in  the  input  data  have  values  in  different  ranges,  each  feature should be scaled independently as a preprocessing step.\n",
        "* When there is little data available, using K-fold validation is a great way to reliably evaluate a model.\n",
        "* When little training data is available, it's preferable to use a small model with few intermediate layers (typically only one or two), in order to avoid severe overfitting.\n",
        "\n"
      ],
      "metadata": {
        "id": "_aTR1AmWzE4N"
      }
    },
    {
      "cell_type": "markdown",
      "metadata": {
        "id": "dJzvYk0p_SwF"
      },
      "source": [
        "## Summary"
      ]
    },
    {
      "cell_type": "markdown",
      "source": [
        "\n",
        "*   The  three  most  common  kinds  of  machine  learning  tasks  on  vector  data  are binary classification, multiclass classification, and scalar regression.\n",
        "  * The “Wrapping up” sections earlier in the chapter summarize the important\n",
        "points you've learned regarding each task.\n",
        "  * Regression  uses  different  loss  functions  and  different  evaluation  metrics than classification.\n",
        "* You'll usually need to preprocess raw data before feeding it into a neural network.\n",
        "* When  your  data  has  features  with  different  ranges,  scale  each  feature independently as part of preprocessing.\n",
        "* As  training  progresses,  neural  networks  eventually  begin  to  overfit  and  obtain worse results on never-before-seen data.\n",
        "* If you don't have much training data, use a small model with only one or two\n",
        "intermediate layers, to avoid severe overfitting.\n",
        "* If your data is divided into many categories, you may cause information bottle-necks if you make the intermediate layers too small.\n",
        "* When you're working with little data, K-fold validation can help reliably evaluate your model.\n",
        "\n"
      ],
      "metadata": {
        "id": "ki3RAtcRzdVU"
      }
    },
    {
      "cell_type": "markdown",
      "source": [
        "## Other Topics"
      ],
      "metadata": {
        "id": "Fx66vQvH0Z-S"
      }
    },
    {
      "cell_type": "markdown",
      "source": [
        "Other topics include:\n",
        "\n",
        "\n",
        "\n",
        "1.   Fundamentals of Machine Learning\n",
        "  * Generalization: The goal of machine learning\n",
        "  * Evaluating machine learning models\n",
        "  * Improving model fit\n",
        "  * Improving generalization\n",
        "2.  The universal workflow of machine learning\n",
        "  * Define the task\n",
        "  * Develop a model\n",
        "  * Deplot the model\n",
        "3. Working with Keras: A deep dive\n",
        "  * A spectrum of workflows\n",
        "  * Different ways to build Keras models\n",
        "  * Using built-in training and evaluation loops\n",
        "  * Writing your own training and evaluation loops\n",
        "4. Introduction to Deep learning for computer vision\n",
        "  * Introduction to convnets\n",
        "  * Training a convnet from scratch on a small dataset\n",
        "  * Leveraging a pretrained model\n",
        "5. Advanced Deep learning for computer vision\n",
        "  * Three essential computer vision tasks\n",
        "  * An image segmentation example\n",
        "  * Modern convnet architecture patterns\n",
        "  * Intrepreting what convents learn\n",
        "6. Deep learning for timeseries\n",
        "  * Different kinds of timeseries tasks\n",
        "  * A temperature-forecasting example\n",
        "  * Understanding recurrent neural networks\n",
        "  * Advanced use of recurrent neural networks\n",
        "7. Deep learning for text\n",
        "  * Natural language processing: the bird's eye view\n",
        "  * Preparing text data\n",
        "  * Two approaches for representing groups of words\n",
        "  * The Transformer architecture\n",
        "  * Beyond text classification: Sequence-to-sequence learning\n",
        "8. Generative deep learning\n",
        "  * Text generation\n",
        "  * DeepDream\n",
        "  * Neural style transfer\n",
        "  * Generating images with variational autoencoders\n",
        "  * Introduction to generative adversial networks\n",
        "9. Best practices for the real world\n",
        "  * Getting the most out of your models\n",
        "  * Scaling-up model training\n",
        "10. Conclusions and Recommendations\n",
        "\n"
      ],
      "metadata": {
        "id": "viNzjnFe0p4C"
      }
    },
    {
      "cell_type": "code",
      "source": [],
      "metadata": {
        "id": "rEPr-T550sAU"
      },
      "execution_count": null,
      "outputs": []
    }
  ],
  "metadata": {
    "colab": {
      "provenance": [],
      "toc_visible": true,
      "gpuType": "T4"
    },
    "kernelspec": {
      "display_name": "Python 3",
      "name": "python3"
    },
    "language_info": {
      "codemirror_mode": {
        "name": "ipython",
        "version": 3
      },
      "file_extension": ".py",
      "mimetype": "text/x-python",
      "name": "python",
      "nbconvert_exporter": "python",
      "pygments_lexer": "ipython3",
      "version": "3.7.0"
    },
    "accelerator": "GPU"
  },
  "nbformat": 4,
  "nbformat_minor": 0
}